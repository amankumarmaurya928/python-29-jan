{
 "cells": [
  {
   "cell_type": "code",
   "execution_count": 9,
   "id": "b7f8b679-2c2d-4eda-9e72-e9176c71846f",
   "metadata": {},
   "outputs": [],
   "source": [
    "#Q1\n",
    "# tuples cantains a squence of elements like number, alphabates, boolean etc.\n",
    "# tuples have both charateristics structs and arrays.\n",
    "# tuple items are ordered, unchangeable and allow duplicate values \n",
    "# tuple items are indexed as the 1st -0 and 2nd -1 so-on.\n",
    "# tuple in writen in () curve box."
   ]
  },
  {
   "cell_type": "code",
   "execution_count": 10,
   "id": "c5f7fc52-da29-470a-a2db-f83915fd0dc2",
   "metadata": {},
   "outputs": [],
   "source": [
    "a=(12,3,3,4,5,'t','y',' false ')"
   ]
  },
  {
   "cell_type": "code",
   "execution_count": 11,
   "id": "420dfaf2-510c-4fd3-afaf-9d7afaa5f937",
   "metadata": {},
   "outputs": [
    {
     "ename": "TypeError",
     "evalue": "'tuple' object does not support item assignment",
     "output_type": "error",
     "traceback": [
      "\u001b[0;31m---------------------------------------------------------------------------\u001b[0m",
      "\u001b[0;31mTypeError\u001b[0m                                 Traceback (most recent call last)",
      "Cell \u001b[0;32mIn[11], line 1\u001b[0m\n\u001b[0;32m----> 1\u001b[0m \u001b[43ma\u001b[49m\u001b[43m[\u001b[49m\u001b[38;5;241;43m0\u001b[39;49m\u001b[43m]\u001b[49m\u001b[38;5;241m=\u001b[39m\u001b[38;5;241m4\u001b[39m\n",
      "\u001b[0;31mTypeError\u001b[0m: 'tuple' object does not support item assignment"
     ]
    }
   ],
   "source": [
    "a[0]=4"
   ]
  },
  {
   "cell_type": "code",
   "execution_count": 12,
   "id": "f40694c5-a10c-4e32-bc9b-b39766995cb8",
   "metadata": {},
   "outputs": [],
   "source": [
    "#tuple is immutable as shown above"
   ]
  },
  {
   "cell_type": "code",
   "execution_count": 13,
   "id": "feb20a88-4b77-4f73-9c9c-06d5819cdcfc",
   "metadata": {},
   "outputs": [],
   "source": [
    "# Q2"
   ]
  },
  {
   "cell_type": "code",
   "execution_count": null,
   "id": "e08459bd-2ba6-421e-8992-b2399c4ba078",
   "metadata": {},
   "outputs": [],
   "source": [
    "#methods of tuple\n",
    "#- count()\n",
    "#- index()\n",
    "#example"
   ]
  },
  {
   "cell_type": "code",
   "execution_count": 23,
   "id": "2f65c1ea-8520-4186-a04d-b976242f7f4a",
   "metadata": {},
   "outputs": [
    {
     "data": {
      "text/plain": [
       "2"
      ]
     },
     "execution_count": 23,
     "metadata": {},
     "output_type": "execute_result"
    }
   ],
   "source": [
    "b= (1,3,455,6,6,7,3,'d','f','t')\n",
    "b.count(3)"
   ]
  },
  {
   "cell_type": "code",
   "execution_count": 24,
   "id": "0ee1d4f9-0077-467a-b982-d412cb6f2843",
   "metadata": {},
   "outputs": [
    {
     "data": {
      "text/plain": [
       "7"
      ]
     },
     "execution_count": 24,
     "metadata": {},
     "output_type": "execute_result"
    }
   ],
   "source": [
    "b.index('d')"
   ]
  },
  {
   "cell_type": "code",
   "execution_count": 25,
   "id": "1346d622-161b-4d68-99ee-a8d788058cf6",
   "metadata": {},
   "outputs": [
    {
     "data": {
      "text/plain": [
       "'tuple support only two in-built methods\\ndue to its immutable nature and also it has fixed size. so, it resist changes.'"
      ]
     },
     "execution_count": 25,
     "metadata": {},
     "output_type": "execute_result"
    }
   ],
   "source": [
    "'''tuple support only two in-built methods\n",
    "due to its immutable nature and also it has fixed size. so, it resist changes.'''\n",
    "# while list is mutable and has no fix size and it also not resist changes"
   ]
  },
  {
   "cell_type": "code",
   "execution_count": 26,
   "id": "fa802099-20cc-474b-8902-7daa94265ff4",
   "metadata": {},
   "outputs": [],
   "source": [
    "# Q3"
   ]
  },
  {
   "cell_type": "code",
   "execution_count": 27,
   "id": "549ad2af-82f6-4a8f-b462-4a1c972cb35a",
   "metadata": {},
   "outputs": [],
   "source": [
    "#  the set data type is not allow duplicate items.\n",
    "lst=[1,1,1,2,1,3,1,4,2,1,2,2,2,3,2,4,3,1,3,2,3,3,3,4,4,1,4,2,4,3,4,4]"
   ]
  },
  {
   "cell_type": "code",
   "execution_count": 29,
   "id": "228a9d37-c747-4ddb-83c1-e4137c629c40",
   "metadata": {},
   "outputs": [
    {
     "data": {
      "text/plain": [
       "{1, 2, 3, 4}"
      ]
     },
     "execution_count": 29,
     "metadata": {},
     "output_type": "execute_result"
    }
   ],
   "source": [
    "set(lst)"
   ]
  },
  {
   "cell_type": "code",
   "execution_count": 30,
   "id": "512a84a9-fd67-4206-bf42-0023dc54742c",
   "metadata": {},
   "outputs": [],
   "source": [
    "# to remove duplicate from list using set, i convert list into set.\n",
    "# because set not allow duplicate items."
   ]
  },
  {
   "cell_type": "code",
   "execution_count": 31,
   "id": "db115c97-c57b-40d4-a778-8320e5228765",
   "metadata": {},
   "outputs": [],
   "source": [
    "#Q4"
   ]
  },
  {
   "cell_type": "code",
   "execution_count": null,
   "id": "279605d0-8cd8-4788-bc11-443179b068ab",
   "metadata": {},
   "outputs": [],
   "source": [
    "# union() is create a new set which has both sets elements without duplicate items\n",
    "# update() is add all missing element to the called set"
   ]
  },
  {
   "cell_type": "code",
   "execution_count": 43,
   "id": "afaee510-4847-4b06-8417-c0a365985787",
   "metadata": {},
   "outputs": [
    {
     "data": {
      "text/plain": [
       "{'a', 'b', 'c', 'd', 'e', 'f', 'g'}"
      ]
     },
     "execution_count": 43,
     "metadata": {},
     "output_type": "execute_result"
    }
   ],
   "source": [
    "a={'a','b','c','d'}\n",
    "b={'d','e','f','g'}\n",
    "a.union(b)"
   ]
  },
  {
   "cell_type": "code",
   "execution_count": 44,
   "id": "17fa57be-bb85-4a66-a019-00ce6f1f71f4",
   "metadata": {},
   "outputs": [],
   "source": [
    "a.update(b)"
   ]
  },
  {
   "cell_type": "code",
   "execution_count": 45,
   "id": "59bf3ca3-c2e7-49ab-b18c-89bbea7026c6",
   "metadata": {},
   "outputs": [
    {
     "data": {
      "text/plain": [
       "{'a', 'b', 'c', 'd', 'e', 'f', 'g'}"
      ]
     },
     "execution_count": 45,
     "metadata": {},
     "output_type": "execute_result"
    }
   ],
   "source": [
    "a"
   ]
  },
  {
   "cell_type": "code",
   "execution_count": 46,
   "id": "72002f89-66bc-4378-953a-005e704b5ab8",
   "metadata": {},
   "outputs": [
    {
     "data": {
      "text/plain": [
       "' Dictionarys are used to store data values in key:value pairs \\n# A dictionary is a collection which is ordered, changeable and do not allow duplicates'"
      ]
     },
     "execution_count": 46,
     "metadata": {},
     "output_type": "execute_result"
    }
   ],
   "source": [
    "# Q5\n",
    "''' Dictionarys are used to store data values in key:value pairs \n",
    "# A dictionary is a collection which is ordered, changeable and do not allow duplicates'''"
   ]
  },
  {
   "cell_type": "code",
   "execution_count": 58,
   "id": "9358b3ed-1b71-422b-9e12-873be808fdc2",
   "metadata": {},
   "outputs": [],
   "source": [
    "# example\n",
    "d1={\"name\":['akm'],\"age\":[22],\"height\":[1.68],\"class\":['dsm']}"
   ]
  },
  {
   "cell_type": "code",
   "execution_count": 59,
   "id": "85d45fed-2341-4501-a06e-b0451399aa81",
   "metadata": {},
   "outputs": [
    {
     "data": {
      "text/plain": [
       "{'name': ['akm'], 'age': [22], 'height': [1.68], 'class': ['dsm']}"
      ]
     },
     "execution_count": 59,
     "metadata": {},
     "output_type": "execute_result"
    }
   ],
   "source": [
    "d1"
   ]
  },
  {
   "cell_type": "code",
   "execution_count": 60,
   "id": "2a6fbc47-1dec-4d78-97dd-4cf5b5f4d598",
   "metadata": {},
   "outputs": [
    {
     "data": {
      "text/plain": [
       "dict"
      ]
     },
     "execution_count": 60,
     "metadata": {},
     "output_type": "execute_result"
    }
   ],
   "source": [
    "type(d1)"
   ]
  },
  {
   "cell_type": "code",
   "execution_count": 61,
   "id": "c1f6b5ab-39fe-4e79-af0c-7a2a2cb52417",
   "metadata": {},
   "outputs": [],
   "source": [
    "# Q6\n",
    "# yes,  first create two dictionaries and then add them into a separate dictionary making nested.\n",
    "# example\n",
    "d2={\"name\":['a.k'],\"email\":[\"acb@gmail.com\"],\"P_no\":[215646]}"
   ]
  },
  {
   "cell_type": "code",
   "execution_count": 62,
   "id": "08c82fc4-cf90-4dfa-b4f7-729d4382b034",
   "metadata": {},
   "outputs": [
    {
     "data": {
      "text/plain": [
       "{'name': ['akm'], 'age': [22], 'height': [1.68], 'class': ['dsm']}"
      ]
     },
     "execution_count": 62,
     "metadata": {},
     "output_type": "execute_result"
    }
   ],
   "source": [
    "d1"
   ]
  },
  {
   "cell_type": "code",
   "execution_count": 76,
   "id": "68835979-4472-4850-9969-8cc5069e9cac",
   "metadata": {},
   "outputs": [
    {
     "name": "stdout",
     "output_type": "stream",
     "text": [
      "\n",
      "Nested dictionary 3-\n",
      "{'d2': {'name': ['a.k'], 'email': ['acb@gmail.com'], 'P_no': [215646]}, 'D3': {'Name': 'Ge', 1: [1, 2]}}\n"
     ]
    }
   ],
   "source": [
    "Dict = { 'd2': {'name':['a.k'],\"email\":[\"acb@gmail.com\"],\"P_no\":[215646]},\n",
    "         'D3': {'Name': 'Ge', 1: [1, 2]} }\n",
    "print(\"\\nNested dictionary 3-\")\n",
    "print(Dict)"
   ]
  },
  {
   "cell_type": "code",
   "execution_count": 79,
   "id": "7bba590c-4d05-44eb-9589-41eabdc89aab",
   "metadata": {},
   "outputs": [],
   "source": [
    "# Q7\n",
    "dict1 = {'language' : 'Python', 'course': 'Data Science Masters'}"
   ]
  },
  {
   "cell_type": "code",
   "execution_count": 80,
   "id": "0b94722b-23b7-4e1c-9f16-305000f24688",
   "metadata": {},
   "outputs": [
    {
     "data": {
      "text/plain": [
       "323"
      ]
     },
     "execution_count": 80,
     "metadata": {},
     "output_type": "execute_result"
    }
   ],
   "source": [
    "dict1.setdefault(\" \",323)"
   ]
  },
  {
   "cell_type": "code",
   "execution_count": 81,
   "id": "13f45617-88e9-4f82-b6a0-4840b0eed5c4",
   "metadata": {},
   "outputs": [
    {
     "name": "stdout",
     "output_type": "stream",
     "text": [
      "{'language': 'Python', 'course': 'Data Science Masters', ' ': 323}\n"
     ]
    }
   ],
   "source": [
    "print(dict1)"
   ]
  },
  {
   "cell_type": "code",
   "execution_count": 82,
   "id": "4b49c4e6-90cb-43ff-a3e6-15e893cfdf4e",
   "metadata": {},
   "outputs": [],
   "source": [
    "#Q8\n"
   ]
  },
  {
   "cell_type": "code",
   "execution_count": 83,
   "id": "3511dbe5-8a78-4959-b39e-c26e41d51e52",
   "metadata": {},
   "outputs": [],
   "source": [
    "dict1 = {'Sport': 'Cricket' , 'Teams': ['India', 'Australia', 'England', 'South Africa', 'Sri Lanka', 'New Zealand']}"
   ]
  },
  {
   "cell_type": "code",
   "execution_count": 84,
   "id": "4fc4ddc7-9749-4c16-bf9e-b9e6022ecf2d",
   "metadata": {},
   "outputs": [
    {
     "data": {
      "text/plain": [
       "{'Sport': 'Cricket',\n",
       " 'Teams': ['India',\n",
       "  'Australia',\n",
       "  'England',\n",
       "  'South Africa',\n",
       "  'Sri Lanka',\n",
       "  'New Zealand']}"
      ]
     },
     "execution_count": 84,
     "metadata": {},
     "output_type": "execute_result"
    }
   ],
   "source": [
    "dict1"
   ]
  },
  {
   "cell_type": "code",
   "execution_count": 91,
   "id": "3a043d2a-1fdc-4ef3-9ce7-671ea8dd19c5",
   "metadata": {},
   "outputs": [],
   "source": [
    "dict1={'Sport':'Cricket','Teams':['India','Australia','England','South Africa','Sri Lanka','New Zealand']}"
   ]
  },
  {
   "cell_type": "code",
   "execution_count": 93,
   "id": "6a83faa6-d184-4420-b0ae-27746d2f32d5",
   "metadata": {},
   "outputs": [
    {
     "name": "stdout",
     "output_type": "stream",
     "text": [
      "{'Sport': 'Cricket', 'Teams': ['India', 'Australia', 'England', 'South Africa', 'Sri Lanka', 'New Zealand']}\n"
     ]
    }
   ],
   "source": [
    "print(dict1)"
   ]
  },
  {
   "cell_type": "code",
   "execution_count": 97,
   "id": "bd90d1de-24d8-4b5e-ae09-a13678fc41ed",
   "metadata": {},
   "outputs": [
    {
     "data": {
      "text/plain": [
       "{'Sport': 'Cricket',\n",
       " 'Teams': ['India',\n",
       "  'Australia',\n",
       "  'England',\n",
       "  'South Africa',\n",
       "  'Sri Lanka',\n",
       "  'New Zealand']}"
      ]
     },
     "execution_count": 97,
     "metadata": {},
     "output_type": "execute_result"
    }
   ],
   "source": [
    "dict1"
   ]
  },
  {
   "cell_type": "code",
   "execution_count": null,
   "id": "d1957c83-0678-4c65-9a15-a675e8fccf56",
   "metadata": {},
   "outputs": [],
   "source": []
  }
 ],
 "metadata": {
  "kernelspec": {
   "display_name": "Python 3 (ipykernel)",
   "language": "python",
   "name": "python3"
  },
  "language_info": {
   "codemirror_mode": {
    "name": "ipython",
    "version": 3
   },
   "file_extension": ".py",
   "mimetype": "text/x-python",
   "name": "python",
   "nbconvert_exporter": "python",
   "pygments_lexer": "ipython3",
   "version": "3.10.8"
  }
 },
 "nbformat": 4,
 "nbformat_minor": 5
}
