{
 "cells": [
  {
   "cell_type": "code",
   "execution_count": 28,
   "id": "d29155fb-ae0e-464d-8258-85e2b07bffd2",
   "metadata": {},
   "outputs": [],
   "source": [
    "# Q1\n",
    "def falt(list1):\n",
    "    flatList = []\n",
    "    for i in list1:\n",
    "        if type(i) is list:\n",
    "            for j in i:\n",
    "                flatList.append(j)\n",
    "        else:\n",
    "                    flatList.append(i)\n",
    "    return flatList"
   ]
  },
  {
   "cell_type": "code",
   "execution_count": 29,
   "id": "c6845d40-3feb-43e3-90ee-6c0f8097b610",
   "metadata": {},
   "outputs": [],
   "source": [
    "list1 = [1,2,3,4, [44,55,66, True], False, (34,56,78,89,34), {1,2,3,3,2,1}, {1:34, \"key2\": [55, 67, 78, 89], 4: (45,\n",
    "22, 61, 34)}, [56, 'data science'], 'Machine Learning']"
   ]
  },
  {
   "cell_type": "code",
   "execution_count": 30,
   "id": "c28d81d4-9362-4799-8503-cc322fd7eb58",
   "metadata": {},
   "outputs": [
    {
     "name": "stdout",
     "output_type": "stream",
     "text": [
      "list [1, 2, 3, 4, [44, 55, 66, True], False, (34, 56, 78, 89, 34), {1, 2, 3}, {1: 34, 'key2': [55, 67, 78, 89], 4: (45, 22, 61, 34)}, [56, 'data science'], 'Machine Learning']\n",
      "flat list [1, 2, 3, 4, 44, 55, 66, True, False, (34, 56, 78, 89, 34), {1, 2, 3}, {1: 34, 'key2': [55, 67, 78, 89], 4: (45, 22, 61, 34)}, 56, 'data science', 'Machine Learning']\n"
     ]
    }
   ],
   "source": [
    "print('list', list1)\n",
    "print('flat list', flat(list1))"
   ]
  },
  {
   "cell_type": "code",
   "execution_count": 5,
   "id": "a16ef4ec-7df8-40c8-9b72-5974985295b4",
   "metadata": {},
   "outputs": [],
   "source": [
    "# Q2\n",
    "srt1='I want to become a Data Scientist'"
   ]
  },
  {
   "cell_type": "code",
   "execution_count": 24,
   "id": "319033c0-7026-427d-b087-b65069d82f64",
   "metadata": {},
   "outputs": [
    {
     "name": "stdout",
     "output_type": "stream",
     "text": [
      "tsitneicS$ataD$a$emoceb$ot$tnaw$Iaca\n"
     ]
    }
   ],
   "source": [
    "srt1='I want to become a Data Scientist'\n",
    "dict = {\" \":'$'}\n",
    "\n",
    "num = srt1[::-1]\n",
    "for i in dict:\n",
    "    num = num.replace(i, dict[i])\n",
    " \n",
    "# f- strings which improves readability\n",
    "print(f\"{num}aca\")"
   ]
  },
  {
   "cell_type": "code",
   "execution_count": null,
   "id": "d79e5275-0268-4db9-98a2-779ebcb63a3e",
   "metadata": {},
   "outputs": [],
   "source": []
  }
 ],
 "metadata": {
  "kernelspec": {
   "display_name": "Python 3 (ipykernel)",
   "language": "python",
   "name": "python3"
  },
  "language_info": {
   "codemirror_mode": {
    "name": "ipython",
    "version": 3
   },
   "file_extension": ".py",
   "mimetype": "text/x-python",
   "name": "python",
   "nbconvert_exporter": "python",
   "pygments_lexer": "ipython3",
   "version": "3.10.8"
  }
 },
 "nbformat": 4,
 "nbformat_minor": 5
}
