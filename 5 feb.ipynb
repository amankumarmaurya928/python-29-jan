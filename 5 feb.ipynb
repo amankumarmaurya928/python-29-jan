{
 "cells": [
  {
   "cell_type": "code",
   "execution_count": 25,
   "id": "41e6c892-16ef-452f-87a1-5f48289de71a",
   "metadata": {},
   "outputs": [],
   "source": [
    "#Q1\n",
    "# Class is a logical entity. Class can only be declared once.\n",
    "# Object is a physical entity. Object can be created many times as per requirement."
   ]
  },
  {
   "cell_type": "code",
   "execution_count": 1,
   "id": "0da46885-28bd-4018-abf3-9990297e75be",
   "metadata": {},
   "outputs": [],
   "source": [
    "# example\n",
    "class pws:\n",
    "    def __init__(am, phone_no,student_id,email):\n",
    "        am.phone= phone_no\n",
    "        am.email= email\n",
    "        am.stid= student_id\n",
    "    \n",
    "    def am_student_detail(am):\n",
    "        return zm.phone,am.email,am.stid"
   ]
  },
  {
   "cell_type": "code",
   "execution_count": 2,
   "id": "41aa1ab4-2aca-4aa7-9325-584487e370e5",
   "metadata": {},
   "outputs": [],
   "source": [
    "aman= pws(216423564,222,\"abcc@gmail.com\")"
   ]
  },
  {
   "cell_type": "code",
   "execution_count": 3,
   "id": "c889b6cf-6544-46e7-bf34-9af69d56af18",
   "metadata": {},
   "outputs": [
    {
     "data": {
      "text/plain": [
       "216423564"
      ]
     },
     "execution_count": 3,
     "metadata": {},
     "output_type": "execute_result"
    }
   ],
   "source": [
    "aman.phone"
   ]
  },
  {
   "cell_type": "code",
   "execution_count": 4,
   "id": "408906d2-35d3-452d-bde3-65e3ac90f6c5",
   "metadata": {},
   "outputs": [],
   "source": [
    "# Q2\n",
    "# four pillars of oops are Inheritance, Polymorphism, Encapsulation and Abstraction."
   ]
  },
  {
   "cell_type": "code",
   "execution_count": 5,
   "id": "2cc1bfeb-ebb8-46f6-9458-9e25fdec13e7",
   "metadata": {},
   "outputs": [],
   "source": [
    "#Q3\n",
    "# The __init__ method lets the class initialize the object's attributes and serves no other purpose\n",
    "# All classes have a function called __init__(), which is always executed when the class is being initiated."
   ]
  },
  {
   "cell_type": "code",
   "execution_count": 6,
   "id": "342481e9-917e-4903-ab48-7e9d9f493d22",
   "metadata": {},
   "outputs": [],
   "source": [
    "# example\n",
    "class ak():\n",
    "    def __init__(ak, a, b):\n",
    "        ak.a=a\n",
    "        ak.b=b\n",
    "        \n",
    "    def return_ak(ak):\n",
    "        return ak.a,ak.b"
   ]
  },
  {
   "cell_type": "code",
   "execution_count": 7,
   "id": "e2e59a51-ffb7-4f24-9876-84c4257e81f9",
   "metadata": {},
   "outputs": [],
   "source": [
    "c=ak(1641,623.5)"
   ]
  },
  {
   "cell_type": "code",
   "execution_count": 8,
   "id": "de428892-74eb-4670-a27f-2d6c6b19de32",
   "metadata": {},
   "outputs": [
    {
     "data": {
      "text/plain": [
       "1641"
      ]
     },
     "execution_count": 8,
     "metadata": {},
     "output_type": "execute_result"
    }
   ],
   "source": [
    "c.a"
   ]
  },
  {
   "cell_type": "code",
   "execution_count": 9,
   "id": "e53bec94-ade5-48b6-88af-fb4f465ff791",
   "metadata": {},
   "outputs": [
    {
     "data": {
      "text/plain": [
       "' self is not a keyword, it is use to understand that the value, we may use any letter other than \\n  self its not affect the function\\n  its use to complete the function because function need a place to sotre the assigned value'"
      ]
     },
     "execution_count": 9,
     "metadata": {},
     "output_type": "execute_result"
    }
   ],
   "source": [
    "#Q4\n",
    "''' self is not a keyword, it is use to understand that the value, we may use any letter other than \n",
    "  self its not affect the function\n",
    "  its use to complete the function because function need a place to sotre the assigned value'''"
   ]
  },
  {
   "cell_type": "code",
   "execution_count": 10,
   "id": "3ab04775-4951-4d6e-9c5b-c1cf16e06767",
   "metadata": {},
   "outputs": [
    {
     "data": {
      "text/plain": [
       "' Inheritance is a mechanism in which one class acquires the property of another class.\\n  it means a class posses the property of the pervious class like child have their parents genes or properties'"
      ]
     },
     "execution_count": 10,
     "metadata": {},
     "output_type": "execute_result"
    }
   ],
   "source": [
    "# Q5\n",
    "''' Inheritance is a mechanism in which one class acquires the property of another class.\n",
    "  it means a class posses the property of the pervious class like child have their parents genes or properties'''"
   ]
  },
  {
   "cell_type": "code",
   "execution_count": null,
   "id": "f88a6b20-bd67-4fd0-a524-d84828848bcd",
   "metadata": {},
   "outputs": [],
   "source": []
  }
 ],
 "metadata": {
  "kernelspec": {
   "display_name": "Python 3 (ipykernel)",
   "language": "python",
   "name": "python3"
  },
  "language_info": {
   "codemirror_mode": {
    "name": "ipython",
    "version": 3
   },
   "file_extension": ".py",
   "mimetype": "text/x-python",
   "name": "python",
   "nbconvert_exporter": "python",
   "pygments_lexer": "ipython3",
   "version": "3.10.8"
  }
 },
 "nbformat": 4,
 "nbformat_minor": 5
}
