{
 "cells": [
  {
   "cell_type": "code",
   "execution_count": 1,
   "id": "eb6f20ad-0ba3-41dd-95c3-f4295a1e7b27",
   "metadata": {},
   "outputs": [
    {
     "data": {
      "text/plain": [
       "' # equivalent to \\'r\\' or \\'rt\\'\\n    file1 = open(\"test.txt\") - it use to read file in text mode \\n    # write in text mode  \\n    file1 = open(\"test.txt\",\\'w\\') - it use to open to write in file\\n    # read and write in binary mode\\n    file1 = open(\"img.bmp\",\\'r+b\\') -it use to open file in binary mode'"
      ]
     },
     "execution_count": 1,
     "metadata": {},
     "output_type": "execute_result"
    }
   ],
   "source": [
    "# Q1\n",
    "# The fopen() function is used to create a file or open an existing file.\n",
    "# modes for opening a file:\n",
    "#  Mode\tDescription:\n",
    "# r\t- Open a file for reading. (default)\n",
    "# w\t- Open a file for writing. Creates a new file if it does not exist or truncates the file if it exists.\n",
    "# x\t- Open a file for exclusive creation. If the file already exists, the operation fails.\n",
    "# a\t- Open a file for appending at the end of the file without truncating it. Creates a new file if it does not exist.\n",
    "# t - Open in text mode. (default)\n",
    "# b\t- Open in binary mode.\n",
    "# +\t- Open a file for updating (reading and writing)\n",
    "''' # equivalent to 'r' or 'rt'\n",
    "    file1 = open(\"test.txt\") - it use to read file in text mode \n",
    "    # write in text mode  \n",
    "    file1 = open(\"test.txt\",'w') - it use to open to write in file\n",
    "    # read and write in binary mode\n",
    "    file1 = open(\"img.bmp\",'r+b') -it use to open file in binary mode'''"
   ]
  },
  {
   "cell_type": "code",
   "execution_count": 2,
   "id": "e134ddf5-b31c-4d52-9a74-e666e9116806",
   "metadata": {},
   "outputs": [
    {
     "data": {
      "text/plain": [
       "'Because files are limited resources managed by the operating system,making sure files are closed after use will\\n   protect against hard-to-debug issues like running out of file handles or experiencing corrupted data.27-Apr-2022'"
      ]
     },
     "execution_count": 2,
     "metadata": {},
     "output_type": "execute_result"
    }
   ],
   "source": [
    "# Q2\n",
    "# The close() method closes an open file. You should always close your files,\n",
    "# in some cases, due to buffering, changes made to a file may not show until you close the file.\n",
    "'''Because files are limited resources managed by the operating system,making sure files are closed after use will\n",
    "   protect against hard-to-debug issues like running out of file handles or experiencing corrupted data.27-Apr-2022'''"
   ]
  },
  {
   "cell_type": "code",
   "execution_count": 4,
   "id": "ddcc749b-bb43-4990-b362-fc742b0f5ed5",
   "metadata": {},
   "outputs": [
    {
     "name": "stdout",
     "output_type": "stream",
     "text": [
      "this is the output\n",
      "I want to become a Data Scientist\n",
      "\n"
     ]
    }
   ],
   "source": [
    "# Q3\n",
    "file= open(\"my_file.txt\",\"w\")\n",
    "st= \"I want to become a Data Scientist\"\n",
    "file.writelines(st)\n",
    "file.close()\n",
    "file= open(\"my_file.txt\",\"r+\")\n",
    "\n",
    "print(\"this is the output\")\n",
    "print(file.read())\n",
    "print()"
   ]
  },
  {
   "cell_type": "code",
   "execution_count": 5,
   "id": "96d4955f-2e27-4534-af31-de2a89f99726",
   "metadata": {},
   "outputs": [
    {
     "name": "stdout",
     "output_type": "stream",
     "text": [
      "read() statement format\n",
      "I want to\n",
      " become a\n",
      " Data Scientist\n"
     ]
    }
   ],
   "source": [
    "# Q4\n",
    "# demonstrate read()\n",
    "file= open(\"my_file.txt\",\"w\")\n",
    "L= [\"I want to\\n\",\" become a\\n\",\" Data Scientist\"]\n",
    "file.writelines(L)\n",
    "file.close()\n",
    "file= open(\"my_file.txt\",\"r+\")\n",
    "print(\"read() statement format\")\n",
    "print(file.read())\n"
   ]
  },
  {
   "cell_type": "code",
   "execution_count": 2,
   "id": "0ea61927-bbb9-4cae-bb60-027cb9a40929",
   "metadata": {},
   "outputs": [
    {
     "name": "stdout",
     "output_type": "stream",
     "text": [
      "Line1: I want to\n",
      "Line2: become a\n",
      "Line3: Data Scientist\n",
      "4\n"
     ]
    }
   ],
   "source": [
    "# demonstrate readline()\n",
    "L= [\"I want to\\n\",\" become a\\n\",\" Data Scientist\"]\n",
    "file1 = open('myfile.txt', 'w')\n",
    "file1.writelines((L))\n",
    "file1.close()\n",
    "file1 = open('myfile.txt', 'r')\n",
    "count = 0\n",
    "  \n",
    "while True:\n",
    "    count += 1\n",
    "    line = file1.readline()\n",
    "    if not line:\n",
    "        break\n",
    "    print(\"Line{}: {}\".format(count, line.strip()))\n",
    "print(count) \n",
    "file1.close()\n",
    "#The readline() specify the number of line but in read() the number of line is not shown"
   ]
  },
  {
   "cell_type": "code",
   "execution_count": 10,
   "id": "d613ccae-f768-426f-8fe2-90b1e2cf6557",
   "metadata": {},
   "outputs": [
    {
     "name": "stdout",
     "output_type": "stream",
     "text": [
      "Lines1:I want to\n",
      "1\n",
      "Lines2:become a\n",
      "2\n",
      "Lines3:Data Scientist\n",
      "3\n"
     ]
    }
   ],
   "source": [
    "# demonstrate readlines()\n",
    "L= [\"I want to\\n\",\" become a\\n\",\" Data Scientist\"]\n",
    "file2 = open(\"my_file.txt\", \"w\")\n",
    "file2.writelines(L)\n",
    "file2.close()\n",
    "file2 = open(\"my_file.txt\", \"r\")\n",
    "lines = file2.readlines()\n",
    "count = 0\n",
    "for line in lines: \n",
    "    count += 1\n",
    "    print(\"Lines{}:{}\".format(count, line.strip()))\n",
    "    print(count)\n",
    "# i donot observe any diffence between readline() and readlines()\n",
    "# other than codes\n",
    "# readlines() method will return all the lines in a file in the format of a list"
   ]
  },
  {
   "cell_type": "code",
   "execution_count": 12,
   "id": "84e3574b-3633-4cdd-9b80-bea168b29de9",
   "metadata": {},
   "outputs": [
    {
     "data": {
      "text/plain": [
       "'The with statement saves you from those leaks, making it easier to write clean code.\\n   And no warry to remember of closing the file or need to close the file in long length of coding\\n   the closing of file in automaticly done by with statement'"
      ]
     },
     "execution_count": 12,
     "metadata": {},
     "output_type": "execute_result"
    }
   ],
   "source": [
    "# Q5\n",
    "'''The with statement works with the open() function to open a file.\n",
    "   Unlike open() where you have to close the file with the close() method,\n",
    "   the with statement closes the file for you without you telling it to'''\n",
    "'''The with statement saves you from those leaks, making it easier to write clean code.\n",
    "   And no warry to remember of closing the file or need to close the file in long length of coding\n",
    "   the closing of file in automatically done by with statement'''"
   ]
  },
  {
   "cell_type": "code",
   "execution_count": 15,
   "id": "fcf24229-a033-4ce7-8cf0-9acd4c8fe2d1",
   "metadata": {},
   "outputs": [
    {
     "data": {
      "text/plain": [
       "'demonstrate write()'"
      ]
     },
     "execution_count": 15,
     "metadata": {},
     "output_type": "execute_result"
    }
   ],
   "source": [
    "# Q6\n",
    "# The only difference between the write() and writelines() is that write() is used to write a string to an already opened file\n",
    "# while writelines() method is used to write a list of strings in an opened file\n",
    "'''demonstrate write()'''"
   ]
  },
  {
   "cell_type": "code",
   "execution_count": 19,
   "id": "9c91c50f-142a-4de1-90b2-e8c5fcd5bd4e",
   "metadata": {},
   "outputs": [
    {
     "name": "stdin",
     "output_type": "stream",
     "text": [
      "Enter the name of the student:  ak\n",
      "Enter the name of the student:  akm\n",
      "Enter the name of the student:  am\n"
     ]
    },
    {
     "name": "stdout",
     "output_type": "stream",
     "text": [
      "Data is written into the file.\n"
     ]
    }
   ],
   "source": [
    "file = open(\"students.txt\", \"w\")\n",
    "  \n",
    "for i in range(3):\n",
    "   name = input(\"Enter the name of the student: \")\n",
    "   file.write(name)\n",
    "   file.write(\"\\n\")\n",
    "file.close()\n",
    "print(\"Data is written into the file.\")"
   ]
  },
  {
   "cell_type": "code",
   "execution_count": 17,
   "id": "57ec7ec8-9f41-452b-a708-39f95acd99b5",
   "metadata": {},
   "outputs": [
    {
     "data": {
      "text/plain": [
       "'demonstrate writelines()'"
      ]
     },
     "execution_count": 17,
     "metadata": {},
     "output_type": "execute_result"
    }
   ],
   "source": [
    "'''demonstrate writelines()'''"
   ]
  },
  {
   "cell_type": "code",
   "execution_count": 18,
   "id": "6244aeeb-a9a4-4be3-bdbb-400762474de1",
   "metadata": {},
   "outputs": [
    {
     "name": "stdin",
     "output_type": "stream",
     "text": [
      "Enter the name of the student:  ak\n",
      "Enter the name of the student:  akm\n",
      "Enter the name of the student:  am\n"
     ]
    },
    {
     "name": "stdout",
     "output_type": "stream",
     "text": [
      "Data is written into the file.\n"
     ]
    }
   ],
   "source": [
    "file1 = open(\"students.txt\", \"w\")\n",
    "lst = []\n",
    "for i in range(3):\n",
    "    name = input(\"Enter the name of the student: \")\n",
    "    lst.append(name + '\\n')\n",
    "      \n",
    "file1.writelines(lst)\n",
    "file1.close()\n",
    "print(\"Data is written into the file.\")"
   ]
  },
  {
   "cell_type": "code",
   "execution_count": null,
   "id": "78956a66-32f2-4be0-bf47-5bfcddbb870e",
   "metadata": {},
   "outputs": [],
   "source": []
  }
 ],
 "metadata": {
  "kernelspec": {
   "display_name": "Python 3 (ipykernel)",
   "language": "python",
   "name": "python3"
  },
  "language_info": {
   "codemirror_mode": {
    "name": "ipython",
    "version": 3
   },
   "file_extension": ".py",
   "mimetype": "text/x-python",
   "name": "python",
   "nbconvert_exporter": "python",
   "pygments_lexer": "ipython3",
   "version": "3.10.8"
  }
 },
 "nbformat": 4,
 "nbformat_minor": 5
}
