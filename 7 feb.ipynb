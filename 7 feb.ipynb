{
 "cells": [
  {
   "cell_type": "code",
   "execution_count": 134,
   "metadata": {},
   "outputs": [
    {
     "name": "stdout",
     "output_type": "stream",
     "text": [
      "(valid password is) P@m@_f0r1tu9e$\n"
     ]
    }
   ],
   "source": [
    "# Q1\n",
    "l,u,p,d =0, 0, 0, 0\n",
    "s = \"P@m@_f0r1tu9e$\"\n",
    "if (len(s)>=8):\n",
    "    for i in s:\n",
    "        if(i.islower()):\n",
    "            l+=1\n",
    "        if (i.isupper()):\n",
    "            u+=1\n",
    "        if (i.isdigit()):\n",
    "            d+=1\n",
    "        if (i=='@' or i=='$' or i=='_'):\n",
    "            p+=1\n",
    "if (l>=1 and u>=1 and p>=1 and d>=1 and l+u+p+d==len(s)):\n",
    "    print(\"(valid password is)\", s)\n",
    "else:\n",
    "    print(\"invalid password\")\n",
    "            "
   ]
  },
  {
   "cell_type": "code",
   "execution_count": 82,
   "metadata": {},
   "outputs": [],
   "source": [
    "# Q2\n",
    "# (I)\n",
    "str1=\"today is a event in our town\""
   ]
  },
  {
   "cell_type": "code",
   "execution_count": 83,
   "metadata": {},
   "outputs": [
    {
     "data": {
      "text/plain": [
       "True"
      ]
     },
     "execution_count": 83,
     "metadata": {},
     "output_type": "execute_result"
    }
   ],
   "source": [
    "(str1.startswith(\"to\"))"
   ]
  },
  {
   "cell_type": "code",
   "execution_count": 84,
   "metadata": {},
   "outputs": [
    {
     "data": {
      "text/plain": [
       "str"
      ]
     },
     "execution_count": 84,
     "metadata": {},
     "output_type": "execute_result"
    }
   ],
   "source": [
    "type(str1)"
   ]
  },
  {
   "cell_type": "code",
   "execution_count": 85,
   "metadata": {},
   "outputs": [],
   "source": [
    "# (II)\n",
    "str1=\"212341567452\""
   ]
  },
  {
   "cell_type": "code",
   "execution_count": 86,
   "metadata": {},
   "outputs": [
    {
     "data": {
      "text/plain": [
       "True"
      ]
     },
     "execution_count": 86,
     "metadata": {},
     "output_type": "execute_result"
    }
   ],
   "source": [
    "str1.isnumeric()"
   ]
  },
  {
   "cell_type": "code",
   "execution_count": 87,
   "metadata": {},
   "outputs": [
    {
     "name": "stdout",
     "output_type": "stream",
     "text": [
      "[('orange', 80), ('mango', 99), ('grapes', 1000)]\n"
     ]
    }
   ],
   "source": [
    "# (III]\n",
    "t1=[(\"mango\",99),(\"orange\",80), (\"grapes\", 1000)]\n",
    "def sort_tuple(t1):\n",
    "    t1.sort(key = lambda x: x[1])\n",
    "    return t1\n",
    "print (sort_tuple(t1))"
   ]
  },
  {
   "cell_type": "code",
   "execution_count": 88,
   "metadata": {},
   "outputs": [],
   "source": [
    "# (IV)\n",
    "a=[1,2,3,4,5,6,7,8,9,10]\n",
    "a=list(map(lambda x:x**2, a))"
   ]
  },
  {
   "cell_type": "code",
   "execution_count": 89,
   "metadata": {},
   "outputs": [
    {
     "data": {
      "text/plain": [
       "[1, 4, 9, 16, 25, 36, 49, 64, 81, 100]"
      ]
     },
     "execution_count": 89,
     "metadata": {},
     "output_type": "execute_result"
    }
   ],
   "source": [
    "a"
   ]
  },
  {
   "cell_type": "code",
   "execution_count": 90,
   "metadata": {},
   "outputs": [],
   "source": [
    "# (V)\n",
    "a=[1,2,3,4,5,6,7,8,9,10]\n",
    "a=list(map(lambda x:x**(1/3), a))"
   ]
  },
  {
   "cell_type": "code",
   "execution_count": 91,
   "metadata": {},
   "outputs": [
    {
     "data": {
      "text/plain": [
       "[1.0,\n",
       " 1.2599210498948732,\n",
       " 1.4422495703074083,\n",
       " 1.5874010519681994,\n",
       " 1.7099759466766968,\n",
       " 1.8171205928321397,\n",
       " 1.912931182772389,\n",
       " 2.0,\n",
       " 2.080083823051904,\n",
       " 2.154434690031884]"
      ]
     },
     "execution_count": 91,
     "metadata": {},
     "output_type": "execute_result"
    }
   ],
   "source": [
    "a"
   ]
  },
  {
   "cell_type": "code",
   "execution_count": 116,
   "metadata": {},
   "outputs": [],
   "source": [
    "# (VI)\n",
    "b=[1,2,3,4,5,6,7,8,9]\n",
    "bc= list(filter(lambda x: (x%2==0), b))"
   ]
  },
  {
   "cell_type": "code",
   "execution_count": 118,
   "metadata": {},
   "outputs": [
    {
     "name": "stdout",
     "output_type": "stream",
     "text": [
      "even number [2, 4, 6, 8]\n"
     ]
    }
   ],
   "source": [
    "print(\"even number\", bc)"
   ]
  },
  {
   "cell_type": "code",
   "execution_count": 119,
   "metadata": {},
   "outputs": [],
   "source": [
    "# (VII)\n",
    "l=[1,2,3,4,5,6,7,8,9,10]\n",
    "li= list(filter(lambda x: (x%2==1), b))"
   ]
  },
  {
   "cell_type": "code",
   "execution_count": 120,
   "metadata": {},
   "outputs": [
    {
     "name": "stdout",
     "output_type": "stream",
     "text": [
      "odd number [1, 3, 5, 7, 9]\n"
     ]
    }
   ],
   "source": [
    "print(\"odd number\", li)"
   ]
  },
  {
   "cell_type": "code",
   "execution_count": 142,
   "metadata": {},
   "outputs": [
    {
     "name": "stdout",
     "output_type": "stream",
     "text": [
      "Result after performing sort operation : [1, 2, 3, 4, 5, 6, 0, -5, -4, -3, -2, -1]\n"
     ]
    }
   ],
   "source": [
    "# (VIII)\n",
    "l1=[1,2,3,4,5,6,-1,-2,-3,-4,-5,0]\n",
    "res= sorted(l1, key = lambda i: 0 if i == 0 else -1 / i)\n",
    "print(\"Result after performing sort operation : \" + str(res))"
   ]
  },
  {
   "cell_type": "code",
   "execution_count": null,
   "metadata": {},
   "outputs": [],
   "source": []
  }
 ],
 "metadata": {
  "kernelspec": {
   "display_name": "Python 3 (ipykernel)",
   "language": "python",
   "name": "python3"
  },
  "language_info": {
   "codemirror_mode": {
    "name": "ipython",
    "version": 3
   },
   "file_extension": ".py",
   "mimetype": "text/x-python",
   "name": "python",
   "nbconvert_exporter": "python",
   "pygments_lexer": "ipython3",
   "version": "3.10.8"
  }
 },
 "nbformat": 4,
 "nbformat_minor": 4
}
