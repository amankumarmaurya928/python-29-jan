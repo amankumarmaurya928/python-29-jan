{
 "cells": [
  {
   "cell_type": "code",
   "execution_count": 1,
   "id": "4ac05c54-a767-4409-b527-060d462ffc8a",
   "metadata": {},
   "outputs": [],
   "source": [
    "# Q1\n",
    "l=[('Sachin Tendulkar', 34357), ('Ricky Ponting', 27483), ('Jack Kallis', 25534), ('Virat Kohli', 24936)]\n",
    "l.sort(key = lambda x: x[1])"
   ]
  },
  {
   "cell_type": "code",
   "execution_count": 2,
   "id": "29dd178b-765d-436b-8d15-b982e9ceb2ce",
   "metadata": {},
   "outputs": [
    {
     "data": {
      "text/plain": [
       "[('Virat Kohli', 24936),\n",
       " ('Jack Kallis', 25534),\n",
       " ('Ricky Ponting', 27483),\n",
       " ('Sachin Tendulkar', 34357)]"
      ]
     },
     "execution_count": 2,
     "metadata": {},
     "output_type": "execute_result"
    }
   ],
   "source": [
    "l"
   ]
  },
  {
   "cell_type": "code",
   "execution_count": 22,
   "id": "89efbfbe-098a-4ef1-8492-6ef0d2c220a3",
   "metadata": {},
   "outputs": [],
   "source": [
    "#Q2\n",
    "l1=[1, 2, 3, 4, 5, 6, 7, 8, 9, 10]\n",
    "l1= list(map(lambda x: x**2, l1))"
   ]
  },
  {
   "cell_type": "code",
   "execution_count": 23,
   "id": "f21e7c63-ddbd-4f72-a8d2-3390f8ec47b6",
   "metadata": {},
   "outputs": [
    {
     "data": {
      "text/plain": [
       "[1, 4, 9, 16, 25, 36, 49, 64, 81, 100]"
      ]
     },
     "execution_count": 23,
     "metadata": {},
     "output_type": "execute_result"
    }
   ],
   "source": [
    "l1"
   ]
  },
  {
   "cell_type": "code",
   "execution_count": 24,
   "id": "a34a4ae2-0924-4be4-a71b-b7edf2d86056",
   "metadata": {},
   "outputs": [],
   "source": [
    "l1= lambda x:x**2, l1"
   ]
  },
  {
   "cell_type": "code",
   "execution_count": 25,
   "id": "e23e51b5-ce9c-4236-b7ac-ec6e5063efbb",
   "metadata": {},
   "outputs": [
    {
     "name": "stdout",
     "output_type": "stream",
     "text": [
      "(<function <lambda> at 0x7f07f023ab90>, [1, 4, 9, 16, 25, 36, 49, 64, 81, 100])\n"
     ]
    }
   ],
   "source": [
    "print(l1)"
   ]
  },
  {
   "cell_type": "code",
   "execution_count": 26,
   "id": "420cc55d-08f6-473b-811c-3b22df56bfe8",
   "metadata": {},
   "outputs": [],
   "source": [
    "#Q3\n",
    "s1=[1, 2, 3, 4, 5, 6, 7, 8, 9, 10]"
   ]
  },
  {
   "cell_type": "code",
   "execution_count": 27,
   "id": "05f1ff56-90c4-4fff-8b05-3e1085a16474",
   "metadata": {
    "jupyter": {
     "source_hidden": true
    },
    "tags": []
   },
   "outputs": [],
   "source": [
    "t= tuple(map(str,s1))"
   ]
  },
  {
   "cell_type": "code",
   "execution_count": 28,
   "id": "ca6e8bd8-aed1-4f97-8729-fc39d126705f",
   "metadata": {},
   "outputs": [
    {
     "data": {
      "text/plain": [
       "('1', '2', '3', '4', '5', '6', '7', '8', '9', '10')"
      ]
     },
     "execution_count": 28,
     "metadata": {},
     "output_type": "execute_result"
    }
   ],
   "source": [
    "t"
   ]
  },
  {
   "cell_type": "code",
   "execution_count": 39,
   "id": "25d95dd5-0b23-406f-9690-2b2fc6fc0d14",
   "metadata": {},
   "outputs": [],
   "source": [
    "#Q4\n",
    "import functools\n",
    "l2=[1,2,3,4,5,6,7,8,9,10,11,12,13,14,15,16,17,18,19,20,21,22,23,24,25]"
   ]
  },
  {
   "cell_type": "code",
   "execution_count": 43,
   "id": "f75820fd-f1d6-4bf0-a4bd-847da62fea3d",
   "metadata": {},
   "outputs": [
    {
     "data": {
      "text/plain": [
       "325"
      ]
     },
     "execution_count": 43,
     "metadata": {},
     "output_type": "execute_result"
    }
   ],
   "source": [
    "functools.reduce(lambda a, b: a+b, l2)"
   ]
  },
  {
   "cell_type": "code",
   "execution_count": 47,
   "id": "ed38f0ed-9bba-4527-b4fb-2340d0c7bf24",
   "metadata": {},
   "outputs": [],
   "source": [
    "#Q5\n",
    "a=[2, 3, 6, 9, 27, 60, 90, 120, 55, 46]"
   ]
  },
  {
   "cell_type": "code",
   "execution_count": 48,
   "id": "c78633aa-c979-4f40-87c7-badc024536ef",
   "metadata": {},
   "outputs": [],
   "source": [
    "b= list(filter(lambda x: (x %(2*3)  == 0), a))"
   ]
  },
  {
   "cell_type": "code",
   "execution_count": 49,
   "id": "957c6298-ff43-478d-a858-263496e10747",
   "metadata": {},
   "outputs": [
    {
     "data": {
      "text/plain": [
       "[6, 60, 90, 120]"
      ]
     },
     "execution_count": 49,
     "metadata": {},
     "output_type": "execute_result"
    }
   ],
   "source": [
    "b"
   ]
  },
  {
   "cell_type": "code",
   "execution_count": 51,
   "id": "17015bd3-2128-4913-a8a3-b620cba62cfa",
   "metadata": {},
   "outputs": [],
   "source": [
    "#Q6\n",
    "a=['python', 'php', 'aba', 'radar', 'level']\n",
    "b= list(filter(lambda x: (x == \"\".join(reversed(x))),a)) "
   ]
  },
  {
   "cell_type": "code",
   "execution_count": 52,
   "id": "8617f2d6-dfc9-49de-8af7-629ab8a885d8",
   "metadata": {},
   "outputs": [
    {
     "data": {
      "text/plain": [
       "['php', 'aba', 'radar', 'level']"
      ]
     },
     "execution_count": 52,
     "metadata": {},
     "output_type": "execute_result"
    }
   ],
   "source": [
    "b"
   ]
  },
  {
   "cell_type": "code",
   "execution_count": null,
   "id": "f4b5d446-e7dd-4236-8f6e-6f8f9148e78d",
   "metadata": {},
   "outputs": [],
   "source": []
  }
 ],
 "metadata": {
  "kernelspec": {
   "display_name": "Python 3 (ipykernel)",
   "language": "python",
   "name": "python3"
  },
  "language_info": {
   "codemirror_mode": {
    "name": "ipython",
    "version": 3
   },
   "file_extension": ".py",
   "mimetype": "text/x-python",
   "name": "python",
   "nbconvert_exporter": "python",
   "pygments_lexer": "ipython3",
   "version": "3.10.8"
  }
 },
 "nbformat": 4,
 "nbformat_minor": 5
}
