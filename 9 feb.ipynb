{
 "cells": [
  {
   "cell_type": "code",
   "execution_count": 1,
   "id": "da2d174c-1e5e-48c6-b203-760792d3228f",
   "metadata": {},
   "outputs": [],
   "source": [
    "# Q1\n",
    "class vehicle:\n",
    "    def __init__(self, name_of_vehicle, max_speed, average_of_vehicle):\n",
    "        self.__name = name_of_vehicle\n",
    "        self.__max_speed = max_speed\n",
    "        self.__average_of_vehicle = average_of_vehicle\n",
    "        "
   ]
  },
  {
   "cell_type": "code",
   "execution_count": 2,
   "id": "08301039-e2ef-4fa5-aba5-b8df99e088a5",
   "metadata": {},
   "outputs": [],
   "source": [
    "vehicle_sub= vehicle('tata',' 500kmpl', 250)"
   ]
  },
  {
   "cell_type": "code",
   "execution_count": 5,
   "id": "d494475a-7346-4483-882f-ffe1e37f3c82",
   "metadata": {},
   "outputs": [
    {
     "data": {
      "text/plain": [
       "'tata'"
      ]
     },
     "execution_count": 5,
     "metadata": {},
     "output_type": "execute_result"
    }
   ],
   "source": [
    "vehicle_sub._vehicle__name"
   ]
  },
  {
   "cell_type": "code",
   "execution_count": 4,
   "id": "a4f1922b-c09a-470b-a06b-2655bbe8abf2",
   "metadata": {},
   "outputs": [
    {
     "data": {
      "text/plain": [
       "' 500kmpl'"
      ]
     },
     "execution_count": 4,
     "metadata": {},
     "output_type": "execute_result"
    }
   ],
   "source": [
    "vehicle_sub._vehicle__max_speed"
   ]
  },
  {
   "cell_type": "code",
   "execution_count": 6,
   "id": "924e0758-f36d-4be8-95ca-9ca316146401",
   "metadata": {},
   "outputs": [],
   "source": [
    "# Q2\n",
    "class vehicle:\n",
    "    def __init__(self, name_of_vehicle, max_speed, average_of_vehicle, capacity):\n",
    "        self.__name = name_of_vehicle\n",
    "        self.__max_speed = max_speed\n",
    "        self.__average_of_vehicle = average_of_vehicle\n",
    "        self.__seating_capacity = capacity\n",
    "        \n",
    "class car(vehicle):\n",
    "    pass"
   ]
  },
  {
   "cell_type": "code",
   "execution_count": 7,
   "id": "51b86ac7-c86c-425e-95b5-0fe396d2acf3",
   "metadata": {},
   "outputs": [],
   "source": [
    "obj_car = car('mahindra',25,26,'7 seat')"
   ]
  },
  {
   "cell_type": "code",
   "execution_count": 8,
   "id": "44724411-d73e-4251-9959-3b27081ced69",
   "metadata": {},
   "outputs": [
    {
     "data": {
      "text/plain": [
       "'mahindra'"
      ]
     },
     "execution_count": 8,
     "metadata": {},
     "output_type": "execute_result"
    }
   ],
   "source": [
    "obj_car._vehicle__name"
   ]
  },
  {
   "cell_type": "code",
   "execution_count": 10,
   "id": "777d2aee-2a53-4eec-a9c6-fe6cf69083ce",
   "metadata": {},
   "outputs": [
    {
     "data": {
      "text/plain": [
       "'7 seat'"
      ]
     },
     "execution_count": 10,
     "metadata": {},
     "output_type": "execute_result"
    }
   ],
   "source": [
    "obj_car._vehicle__seating_capacity"
   ]
  },
  {
   "cell_type": "code",
   "execution_count": 11,
   "id": "47eb9b8f-7bb1-4ead-adda-e43e63adc1b3",
   "metadata": {},
   "outputs": [
    {
     "data": {
      "text/plain": [
       "'When a class is derived from more than one base class it is called multiple Inheritance. \\n or a class is use all features of the base classes'"
      ]
     },
     "execution_count": 11,
     "metadata": {},
     "output_type": "execute_result"
    }
   ],
   "source": [
    "# Q3\n",
    "'''When a class is derived from more than one base class it is called multiple Inheritance. \n",
    " or a class is use all features of the base classes'''"
   ]
  },
  {
   "cell_type": "code",
   "execution_count": 25,
   "id": "dd8e649a-e7a1-450e-87cf-127d64b362f7",
   "metadata": {},
   "outputs": [],
   "source": [
    "# example\n",
    "class class1:\n",
    "    def m(self):\n",
    "        print(\"in class1\")"
   ]
  },
  {
   "cell_type": "code",
   "execution_count": 26,
   "id": "71b7948a-51c8-4eaf-9fd1-d72cf1a1907b",
   "metadata": {},
   "outputs": [],
   "source": [
    "class class2:\n",
    "    def m(self):\n",
    "        print(\"in class2\")"
   ]
  },
  {
   "cell_type": "code",
   "execution_count": 27,
   "id": "da30e1f3-871f-4af7-b915-15769ce63d02",
   "metadata": {},
   "outputs": [],
   "source": [
    "class class3(class1, class2):\n",
    "    def m(self):\n",
    "        print(\"in class3\")"
   ]
  },
  {
   "cell_type": "code",
   "execution_count": 28,
   "id": "aaffca58-d4b6-408e-9385-19ddb675be59",
   "metadata": {},
   "outputs": [],
   "source": [
    "obj= class3"
   ]
  },
  {
   "cell_type": "code",
   "execution_count": 31,
   "id": "6bbd7628-b8fc-483d-86f6-ee3018b998eb",
   "metadata": {},
   "outputs": [
    {
     "name": "stdout",
     "output_type": "stream",
     "text": [
      "in class3\n"
     ]
    }
   ],
   "source": [
    "obj.m(class3)"
   ]
  },
  {
   "cell_type": "code",
   "execution_count": 32,
   "id": "ad837a8d-3eba-4ed8-84b0-fc374a407f77",
   "metadata": {},
   "outputs": [
    {
     "name": "stdout",
     "output_type": "stream",
     "text": [
      "in class2\n"
     ]
    }
   ],
   "source": [
    "class2.m(obj)"
   ]
  },
  {
   "cell_type": "code",
   "execution_count": 34,
   "id": "d9efc122-132a-4dde-a3c4-10aec5bb5908",
   "metadata": {},
   "outputs": [
    {
     "data": {
      "text/plain": [
       "'Getters: These are the methods used in Object-Oriented Programming (OOPS) which helps to access the private attributes from a class.\\n    Setters: These are the methods used in OOPS feature which helps to set the value to private attributes in a class'"
      ]
     },
     "execution_count": 34,
     "metadata": {},
     "output_type": "execute_result"
    }
   ],
   "source": [
    "# Q4\n",
    "'''Getters: These are the methods used in Object-Oriented Programming (OOPS) which helps to access the private attributes from a class.\n",
    "    Setters: These are the methods used in OOPS feature which helps to set the value to private attributes in a class'''"
   ]
  },
  {
   "cell_type": "code",
   "execution_count": 35,
   "id": "b3310e99-f510-4861-9920-aacaed8bb208",
   "metadata": {},
   "outputs": [],
   "source": [
    "class akm:\n",
    "    def __init__(self, age = 0):\n",
    "         self._age = age\n",
    "      \n",
    "    def get_age(self):\n",
    "        return self._age\n",
    "      \n",
    "    def set_age(self, x):\n",
    "        self._age = x"
   ]
  },
  {
   "cell_type": "code",
   "execution_count": 36,
   "id": "3385d763-b081-4ada-875a-7fa8a1a20430",
   "metadata": {},
   "outputs": [],
   "source": [
    "ak= akm()"
   ]
  },
  {
   "cell_type": "code",
   "execution_count": 37,
   "id": "9cbcbfbb-08a9-46d2-9c22-1e2ebc784c8b",
   "metadata": {},
   "outputs": [],
   "source": [
    "ak.set_age(22)"
   ]
  },
  {
   "cell_type": "code",
   "execution_count": 38,
   "id": "0a085f8b-890c-446c-93be-4d4927dc78a5",
   "metadata": {},
   "outputs": [
    {
     "data": {
      "text/plain": [
       "22"
      ]
     },
     "execution_count": 38,
     "metadata": {},
     "output_type": "execute_result"
    }
   ],
   "source": [
    "ak.get_age()"
   ]
  },
  {
   "cell_type": "code",
   "execution_count": 39,
   "id": "9fe50657-6b8f-4a8c-a446-81dbf4ebd016",
   "metadata": {},
   "outputs": [
    {
     "data": {
      "text/plain": [
       "\"Method overriding is a feature of oop's languages where the subclass or child class can provide the\\n  program with specific characteristics or a specific implementation process of data provided that are \\n  already defined in the parent class or superclass.\""
      ]
     },
     "execution_count": 39,
     "metadata": {},
     "output_type": "execute_result"
    }
   ],
   "source": [
    "# Q5\n",
    "'''Method overriding is a feature of oop's languages where the subclass or child class can provide the\n",
    "  program with specific characteristics or a specific implementation process of data provided that are \n",
    "  already defined in the parent class or superclass.'''"
   ]
  },
  {
   "cell_type": "code",
   "execution_count": 40,
   "id": "4ef4eea8-b286-4d0d-9f38-62b588e26a53",
   "metadata": {},
   "outputs": [],
   "source": [
    "# example\n",
    "class parent:\n",
    "    def gk(self):\n",
    "        print(\"this is my parent class\")\n",
    "class child(parent):\n",
    "    pass"
   ]
  },
  {
   "cell_type": "code",
   "execution_count": 41,
   "id": "90e79d68-1c0d-45e4-80cf-1180336f1cee",
   "metadata": {},
   "outputs": [],
   "source": [
    "obj=child()"
   ]
  },
  {
   "cell_type": "code",
   "execution_count": 42,
   "id": "3249f3f8-3330-4da1-af10-3088b8e8ff0d",
   "metadata": {},
   "outputs": [
    {
     "name": "stdout",
     "output_type": "stream",
     "text": [
      "this is my parent class\n"
     ]
    }
   ],
   "source": [
    "obj.gk()"
   ]
  },
  {
   "cell_type": "code",
   "execution_count": null,
   "id": "d506fd86-dc90-4685-9f1d-51c60dfdc6a9",
   "metadata": {},
   "outputs": [],
   "source": []
  }
 ],
 "metadata": {
  "kernelspec": {
   "display_name": "Python 3 (ipykernel)",
   "language": "python",
   "name": "python3"
  },
  "language_info": {
   "codemirror_mode": {
    "name": "ipython",
    "version": 3
   },
   "file_extension": ".py",
   "mimetype": "text/x-python",
   "name": "python",
   "nbconvert_exporter": "python",
   "pygments_lexer": "ipython3",
   "version": "3.10.8"
  }
 },
 "nbformat": 4,
 "nbformat_minor": 5
}
