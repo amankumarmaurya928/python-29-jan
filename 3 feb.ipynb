{
 "cells": [
  {
   "cell_type": "code",
   "execution_count": 6,
   "id": "b2714ad2-00a3-4826-b783-38803ec98bf2",
   "metadata": {},
   "outputs": [],
   "source": [
    "#Q1\n",
    "# Odd_number() keyword is use for this function\n",
    "def odd_number(n):\n",
    "    return[x for x in range(n+1) if x%2!=0]\n",
    "    "
   ]
  },
  {
   "cell_type": "code",
   "execution_count": 7,
   "id": "8268da32-37c2-4758-b191-08d747e850e4",
   "metadata": {},
   "outputs": [
    {
     "name": "stdout",
     "output_type": "stream",
     "text": [
      "[1, 3, 5, 7, 9, 11, 13, 15, 17, 19, 21, 23, 25]\n"
     ]
    }
   ],
   "source": [
    "print(odd_number(25))"
   ]
  },
  {
   "cell_type": "code",
   "execution_count": 8,
   "id": "b0b45734-6128-4f46-9c09-c3c09e98a16d",
   "metadata": {},
   "outputs": [],
   "source": [
    "#Q2\n",
    "#  *args is an argument which allow 'n' number of element of any type in single argument.\n",
    "#example\n",
    "def main(*am):\n",
    "    return am"
   ]
  },
  {
   "cell_type": "code",
   "execution_count": 9,
   "id": "9e4324dd-41ab-4487-879e-082976fdf42f",
   "metadata": {},
   "outputs": [
    {
     "data": {
      "text/plain": [
       "(1,\n",
       " 2,\n",
       " 3,\n",
       " 3.26,\n",
       " {'a', 'd', 'f', 's'},\n",
       " ['as', 'sd', 'df'],\n",
       " (1, 2, 'd', 'f', 3.6))"
      ]
     },
     "execution_count": 9,
     "metadata": {},
     "output_type": "execute_result"
    }
   ],
   "source": [
    "main(1,2,3,3.26,{'a','s','d','f'},['as','sd','df'],(1,2,'d','f',3.6))"
   ]
  },
  {
   "cell_type": "code",
   "execution_count": 10,
   "id": "fdd478f4-0d50-46f8-9965-18d979b2ab41",
   "metadata": {},
   "outputs": [],
   "source": [
    "# **args is an argument which allow 'n' number of element in the form of or type of dictionary\n",
    "# example\n",
    "def main(**am):\n",
    "    return am"
   ]
  },
  {
   "cell_type": "code",
   "execution_count": 11,
   "id": "9e14efbc-e00c-4b9a-a079-e8312ce8b2ab",
   "metadata": {},
   "outputs": [
    {
     "data": {
      "text/plain": [
       "{'a': 2, 'b': 3, 'd': [1, 'd', 'f'], 'c': (12, 'g', 'o')}"
      ]
     },
     "execution_count": 11,
     "metadata": {},
     "output_type": "execute_result"
    }
   ],
   "source": [
    "main(a=2,b=3, d=[1,'d','f'],c=(12,'g','o'))"
   ]
  },
  {
   "cell_type": "code",
   "execution_count": 16,
   "id": "bdd5e2c9-64fd-48ea-9594-9f38bd1236b0",
   "metadata": {},
   "outputs": [],
   "source": [
    "#Q3\n",
    "# Iterator in Python is an object that is used to iterate over iterable objects like lists, tuples, dicts, and sets. \n",
    "# The iterator object is initialized using the iter() method\n",
    "d=[1,2,]\n",
    "def next(d):\n",
    "    return d\n"
   ]
  },
  {
   "cell_type": "code",
   "execution_count": 17,
   "id": "7653fb10-fb77-4f82-bc31-63934c52d5a0",
   "metadata": {},
   "outputs": [
    {
     "data": {
      "text/plain": [
       "[1, 2]"
      ]
     },
     "execution_count": 17,
     "metadata": {},
     "output_type": "execute_result"
    }
   ],
   "source": [
    "d"
   ]
  },
  {
   "cell_type": "code",
   "execution_count": 27,
   "id": "efe18cdd-d6f6-4bb9-ad2f-1dc4ff244e4e",
   "metadata": {},
   "outputs": [],
   "source": [
    "#Q4\n",
    "#  a special kind of function that return a small iterator called a generator iterator.\n",
    "#  a function that returns an iterator that produces a sequence of values when iterated.\n",
    "# to return the caller yield keyword is used.\n",
    "# example\n",
    "def my_generator(n):\n",
    "    a,b=1,2\n",
    "    for i in range(n):\n",
    "        yield a\n",
    "        a,b=b , a*b"
   ]
  },
  {
   "cell_type": "code",
   "execution_count": 30,
   "id": "50bc8a6f-242f-4177-8613-77bb3a175f2a",
   "metadata": {},
   "outputs": [
    {
     "data": {
      "text/plain": [
       "<generator object my_generator at 0x7f58a025a0a0>"
      ]
     },
     "execution_count": 30,
     "metadata": {},
     "output_type": "execute_result"
    }
   ],
   "source": [
    "my_generator(10)"
   ]
  },
  {
   "cell_type": "code",
   "execution_count": 32,
   "id": "b381a3ff-68a5-43c8-9884-cc75dd86f748",
   "metadata": {},
   "outputs": [
    {
     "name": "stdout",
     "output_type": "stream",
     "text": [
      "1\n",
      "2\n",
      "2\n",
      "4\n",
      "8\n",
      "32\n",
      "256\n",
      "8192\n",
      "2097152\n",
      "17179869184\n"
     ]
    }
   ],
   "source": [
    "for i in my_generator(10):\n",
    "    print(i)"
   ]
  },
  {
   "cell_type": "code",
   "execution_count": 34,
   "id": "e6bceeaf-be7e-4237-8693-59067b35b371",
   "metadata": {},
   "outputs": [],
   "source": [
    "# Q5"
   ]
  },
  {
   "cell_type": "code",
   "execution_count": 84,
   "id": "56d737a6-1026-4626-a777-7580d08fe30d",
   "metadata": {},
   "outputs": [],
   "source": [
    "def prime(n):\n",
    "    \"\"\"Returns True if the number is prime\n",
    "    else False.\"\"\"\n",
    "    if n == 0 or n == 1:\n",
    "        return x\n",
    "    for x in range(2, n):\n",
    "        yield\n",
    "    if n % x == 0:\n",
    "            return x\n",
    "    else:\n",
    "        return x"
   ]
  },
  {
   "cell_type": "code",
   "execution_count": 85,
   "id": "37084f67-fb7f-42ea-b7f0-22c18e5e7fac",
   "metadata": {},
   "outputs": [
    {
     "data": {
      "text/plain": [
       "<filter at 0x7f58a0551c90>"
      ]
     },
     "execution_count": 85,
     "metadata": {},
     "output_type": "execute_result"
    }
   ],
   "source": [
    "filter(prime, range(1, 20))\n",
    " "
   ]
  },
  {
   "cell_type": "code",
   "execution_count": null,
   "id": "c784d544-cb61-410c-9ad9-d2e899c1d5ce",
   "metadata": {},
   "outputs": [],
   "source": []
  }
 ],
 "metadata": {
  "kernelspec": {
   "display_name": "Python 3 (ipykernel)",
   "language": "python",
   "name": "python3"
  },
  "language_info": {
   "codemirror_mode": {
    "name": "ipython",
    "version": 3
   },
   "file_extension": ".py",
   "mimetype": "text/x-python",
   "name": "python",
   "nbconvert_exporter": "python",
   "pygments_lexer": "ipython3",
   "version": "3.10.8"
  }
 },
 "nbformat": 4,
 "nbformat_minor": 5
}
