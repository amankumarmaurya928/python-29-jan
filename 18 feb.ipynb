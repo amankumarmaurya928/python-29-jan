{
 "cells": [
  {
   "cell_type": "code",
   "execution_count": null,
   "id": "133bfa33-f98f-4903-ab00-513a3282d186",
   "metadata": {},
   "outputs": [],
   "source": [
    "# Q1\n",
    "# API:-\n",
    "'''APIs are mechanisms that enable two software components to communicate with each other using a set of definitions\n",
    "   and protocols.\n",
    "'''\n",
    "#use\n",
    "'''APIs are used by web applications to link functionality and data on the back end with the user-facing front end.\n",
    "   APIs are used to deliver content by streaming services like Spotify and Netflix.\n",
    "'''\n",
    "# example\n",
    "'''the weather bureau's software system contains daily weather data. The weather app on your phone “talks” \n",
    "   to this system via APIs and shows you daily weather updates on your phone.\n",
    "'''"
   ]
  },
  {
   "cell_type": "code",
   "execution_count": null,
   "id": "8982b9e0-727c-4fe8-8a27-e81197b39352",
   "metadata": {},
   "outputs": [],
   "source": [
    "# Q2\n",
    "# Advantages of using API\n",
    "'''Efficiency:\n",
    "   When you have content that is automatically published and made available on different channels simultaneously,\n",
    "   APIs allow for more efficient data distribution.\n",
    "   \n",
    "   Adaptability:\n",
    "   One of the greatest benefits of APIs is the ability it has to adapt to changes through data migration and \n",
    "   flexibility of services.\n",
    "'''\n",
    "# Disadvantages of using API\n",
    "'''As a single point of entry, an API is a gateway and can become a hacker's primary target.\n",
    "   Once the API is compromised, all other applications and systems become vulnerable."
   ]
  },
  {
   "cell_type": "code",
   "execution_count": null,
   "id": "1170c2f4-96f8-4457-ac4f-b9a964142553",
   "metadata": {},
   "outputs": [],
   "source": [
    "# Q3\n",
    "# WEB API\n",
    "'''Web API is used as an interface between two different applications for communicating with each other.'''\n",
    "# Differentiate between API and Web API.\n",
    "'''API:-\n",
    "   API stands for Application Programming Interface. \n",
    "   It is a software interface that allows two applications to interact without any user intervention.\n",
    "   API provides products or services to communicate with other products \n",
    "   and services without knowing how they are implemented.\n",
    "   WEB API:-\n",
    "   A web API is a collection of open standards and protocols widely used for the exchange of data between systems\n",
    "   or applications.\n",
    "   Software applications are written using a variety of programming languages and run on multiple platforms.\n",
    "   Allows you to use web services to exchange data over computer networks.\n",
    "'''"
   ]
  },
  {
   "cell_type": "code",
   "execution_count": null,
   "id": "dcda00e5-b082-4011-959a-dd8a3d49bcf3",
   "metadata": {},
   "outputs": [],
   "source": [
    "# Q4\n",
    "'''SOAP Architecture:-\n",
    "   SOAP is a protocol for the exchange of information in a distributed environment. \n",
    "   SOAP messages are encoded as XML documents and can be exchanged using various underlying protocols.\n",
    "   \n",
    "   REST Architecture:-\n",
    "   REST is a software architectural style that defines the set of rules to be used for creating web services.\n",
    "   Web services which follow the REST architectural style are known as RESTful web services.\n",
    "   It allows requesting systems to access and manipulate web resources by using a uniform and predefined set of rules.\n",
    "'''\n",
    "   \n",
    "#  Shortcomings of SOAP.\n",
    "'''(i) Soaps cannot be used in hard water which contain `Ca^(2+)` or `Mg^(2+)` ions.\n",
    "   This because `Ca^(2+)` and `Mg^(2+)` salts of higher fatty acids are insoluble in water.<br>\n",
    "   \n",
    "   (ii) Soaps cannot be used in acidic medium because free fatty acids are not soluble in water.\n",
    "   '''"
   ]
  },
  {
   "cell_type": "code",
   "execution_count": null,
   "id": "4b9c3402-6403-4432-804f-2582ce66c6c4",
   "metadata": {},
   "outputs": [],
   "source": [
    "# Q5\n",
    "# DIFFERENCE BETWEEN SOAP AND REST\n",
    "'''\n",
    "SOAP:\n",
    "   Many legacy systems may still adhere to SOAP. \n",
    "   SOAP is a protocol with specific requirements like XML messaging.\n",
    "   SOAP web services offer built-in security and transaction compliance that align with many enterprise needs,\n",
    "   but that also makes them heavier.\n",
    "REST:\n",
    "   REST came later and is often viewed as a faster alternative in web-based scenarios.\n",
    "   REST is a set of guidelines that offers flexible implementation.\n",
    "   REST APIs are lightweight, making them ideal for newer contexts like the Internet of Things (IoT), \n",
    "   mobile application development, and serverless computing. "
   ]
  }
 ],
 "metadata": {
  "kernelspec": {
   "display_name": "Python 3 (ipykernel)",
   "language": "python",
   "name": "python3"
  },
  "language_info": {
   "codemirror_mode": {
    "name": "ipython",
    "version": 3
   },
   "file_extension": ".py",
   "mimetype": "text/x-python",
   "name": "python",
   "nbconvert_exporter": "python",
   "pygments_lexer": "ipython3",
   "version": "3.10.8"
  }
 },
 "nbformat": 4,
 "nbformat_minor": 5
}
