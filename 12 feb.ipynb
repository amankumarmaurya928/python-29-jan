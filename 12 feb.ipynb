{
 "cells": [
  {
   "cell_type": "code",
   "execution_count": 1,
   "id": "adab6663-b85b-4142-bb0e-4a66bf8e2c86",
   "metadata": {},
   "outputs": [
    {
     "data": {
      "text/plain": [
       "'A syntax error systemic error or the error implies a problem that mostly arises due to the shortage of system resources.\\n   On the other hand,the except help to run the code in case of error or the exceptions occur during runtime.'"
      ]
     },
     "execution_count": 1,
     "metadata": {},
     "output_type": "execute_result"
    }
   ],
   "source": [
    "# Q1\n",
    "'''Exception is an event, which occurs during the execution of a program,\n",
    "   that provide the normal flow of the program's instructions.\n",
    "   it means when a Python script encounters a situation that it cannot run with, it raises an exception.\n",
    "   An exception is a Python object that represents an error.'''\n",
    "#difference between syntax error and Exception\n",
    "'''A syntax error systemic error or the error implies a problem that mostly arises due to the shortage of system resources.\n",
    "   On the other hand,the except help to run the code in case of error or the exceptions occur during runtime.'''\n",
    "'''Errors mostly happen at compile-time like syntax error. however it can happen at runtime as well. \n",
    "   Whereas an Exception occurs at runtime or checked exceptions can be detected at compile time.'''"
   ]
  },
  {
   "cell_type": "code",
   "execution_count": 5,
   "id": "fe06183a-694b-49a2-8eb1-0574222df561",
   "metadata": {},
   "outputs": [],
   "source": [
    "# Q2\n",
    "''' If the exception is not handled,\n",
    "    the exception is re-raised after the finally clause has been executed.'''\n",
    "#example\n",
    "\n",
    "bool_return()\n",
    "def divide(x, y):\n",
    "    try:\n",
    "        result = x / y\n",
    "    except ZeroDivisionError:\n",
    "        print(\"division by zero!\")\n",
    "    else:\n",
    "        print(\"result is\", result)\n",
    "    finally:\n",
    "        print(\"executing finally clause\")"
   ]
  },
  {
   "cell_type": "code",
   "execution_count": 6,
   "id": "89524e2a-9fa6-417c-ac43-2ba9947e4922",
   "metadata": {},
   "outputs": [
    {
     "name": "stdout",
     "output_type": "stream",
     "text": [
      "result is 0.4\n",
      "executing finally clause\n"
     ]
    }
   ],
   "source": [
    "divide(2,5)"
   ]
  },
  {
   "cell_type": "code",
   "execution_count": 7,
   "id": "4442dcc7-c3dc-4b9b-bc87-1b35978026f7",
   "metadata": {},
   "outputs": [
    {
     "name": "stdout",
     "output_type": "stream",
     "text": [
      "division by zero!\n",
      "executing finally clause\n"
     ]
    }
   ],
   "source": [
    "divide(5,0)"
   ]
  },
  {
   "cell_type": "code",
   "execution_count": 11,
   "id": "7882d856-db17-48e2-beb9-cc8a50919b92",
   "metadata": {},
   "outputs": [
    {
     "name": "stdout",
     "output_type": "stream",
     "text": [
      "The index and element from the array is 0 Python\n",
      "The index and element from the array is 1 Exceptions\n",
      "The index and element from the array is 2 try and except\n",
      "Index out of range\n"
     ]
    }
   ],
   "source": [
    "# Q3\n",
    "''' we catch exceptions and handle them using try and except code blocks.\n",
    "    The try clause contains the code that can raise an exception,\n",
    "    while the except clause contains the code lines that handle the exception.'''\n",
    "#example\n",
    "try: \n",
    "    a = [\"Python\", \"Exceptions\", \"try and except\"]\n",
    "    for i in range( 4 ):  \n",
    "        print( \"The index and element from the array is\", i, a[i] )         \n",
    "except:  \n",
    "    print (\"Index out of range\") "
   ]
  },
  {
   "cell_type": "code",
   "execution_count": 18,
   "id": "ae65a89e-1c45-44ad-9bef-7a066ec8ecc7",
   "metadata": {},
   "outputs": [
    {
     "name": "stdout",
     "output_type": "stream",
     "text": [
      "there is issue in my code not writable\n"
     ]
    }
   ],
   "source": [
    "# Q4\n",
    "'(a)'\n",
    "'''The try block lets you test a block of code for errors.\n",
    "   The else block lets you execute code when there is no error.'''\n",
    "#  there is one more which is except: The except block lets you handle the error\n",
    "#example\n",
    "try:\n",
    "    f= open(\"text1.txt\",'r')\n",
    "    f.write(\"this is my msg\")\n",
    "    \n",
    "except Exception as e:\n",
    "    print(\"there is issue in my code\", e)\n",
    "else:\n",
    "    f.close()\n",
    "    print(\"this block will execute once try will exceute itself without an exception\")\n"
   ]
  },
  {
   "cell_type": "code",
   "execution_count": 19,
   "id": "45ff0acc-c606-4eb3-935d-2274470035a9",
   "metadata": {},
   "outputs": [
    {
     "name": "stdout",
     "output_type": "stream",
     "text": [
      "this block will execute once try will exceute itself without an exceotion\n"
     ]
    }
   ],
   "source": [
    "try:\n",
    "    f= open(\"text.txt\",'w')\n",
    "    f.write(\"this is my msg\")\n",
    "    \n",
    "except Exception as e:\n",
    "    print(\"there is some issue with my code\", e)\n",
    "else:\n",
    "    f.close()\n",
    "    print(\"this block will execute once try will exceute itself without an exceotion\")"
   ]
  },
  {
   "cell_type": "code",
   "execution_count": 23,
   "id": "cb93ba59-ade4-4de8-b1f7-fd2b137c2d4e",
   "metadata": {},
   "outputs": [
    {
     "name": "stdout",
     "output_type": "stream",
     "text": [
      "this is end\n"
     ]
    }
   ],
   "source": [
    "#(B)\n",
    "'''The finally block will be executed regardless if the try block raises an error or not.'''\n",
    "#example\n",
    "try:\n",
    "    f = open(\"file.txt\", 'w')\n",
    "  \n",
    "    f.write(\"lotus lake\")\n",
    "except:\n",
    "    print(\"Something went wrong when writing to the file\")\n",
    "finally:\n",
    "    print(\"this is end\")\n",
    "    f.close()\n"
   ]
  },
  {
   "cell_type": "code",
   "execution_count": 24,
   "id": "5a8a10b6-5562-4e98-9339-7ea739cab322",
   "metadata": {},
   "outputs": [
    {
     "name": "stdout",
     "output_type": "stream",
     "text": [
      "Something went wrong when writing to the file\n",
      "this is end\n"
     ]
    }
   ],
   "source": [
    "try:\n",
    "    f = open(\"file.txt\", 'r')\n",
    "  \n",
    "    f.read(\"lotus lake\")\n",
    "except:\n",
    "    print(\"Something went wrong when writing to the file\")\n",
    "finally:\n",
    "    print(\"this is end\")\n",
    "    f.close()\n",
    "# in both case (error or not) the finally in executed"
   ]
  },
  {
   "cell_type": "code",
   "execution_count": 29,
   "id": "519c137b-d822-43e0-948e-0c37076ded9b",
   "metadata": {},
   "outputs": [
    {
     "ename": "ValueError",
     "evalue": "String can't be changed into integer",
     "output_type": "error",
     "traceback": [
      "\u001b[0;31m---------------------------------------------------------------------------\u001b[0m",
      "\u001b[0;31mValueError\u001b[0m                                Traceback (most recent call last)",
      "Cell \u001b[0;32mIn[29], line 8\u001b[0m\n\u001b[1;32m      7\u001b[0m \u001b[38;5;28;01mtry\u001b[39;00m:\n\u001b[0;32m----> 8\u001b[0m     num \u001b[38;5;241m=\u001b[39m \u001b[38;5;28;43mint\u001b[39;49m\u001b[43m(\u001b[49m\u001b[43ms\u001b[49m\u001b[43m)\u001b[49m\n\u001b[1;32m      9\u001b[0m \u001b[38;5;28;01mexcept\u001b[39;00m \u001b[38;5;167;01mValueError\u001b[39;00m:\n",
      "\u001b[0;31mValueError\u001b[0m: invalid literal for int() with base 10: 'apple'",
      "\nDuring handling of the above exception, another exception occurred:\n",
      "\u001b[0;31mValueError\u001b[0m                                Traceback (most recent call last)",
      "Cell \u001b[0;32mIn[29], line 10\u001b[0m\n\u001b[1;32m      8\u001b[0m     num \u001b[38;5;241m=\u001b[39m \u001b[38;5;28mint\u001b[39m(s)\n\u001b[1;32m      9\u001b[0m \u001b[38;5;28;01mexcept\u001b[39;00m \u001b[38;5;167;01mValueError\u001b[39;00m:\n\u001b[0;32m---> 10\u001b[0m     \u001b[38;5;28;01mraise\u001b[39;00m \u001b[38;5;167;01mValueError\u001b[39;00m(\u001b[38;5;124m\"\u001b[39m\u001b[38;5;124mString can\u001b[39m\u001b[38;5;124m'\u001b[39m\u001b[38;5;124mt be changed into integer\u001b[39m\u001b[38;5;124m\"\u001b[39m)\n",
      "\u001b[0;31mValueError\u001b[0m: String can't be changed into integer"
     ]
    }
   ],
   "source": [
    "#(C)\n",
    "'''Raise Keyword is used to raise exceptions or errors.\n",
    "   The raise keyword raises an error and stops the control flow of the program.'''\n",
    "#example\n",
    "s = 'apple'\n",
    "  \n",
    "try:\n",
    "    num = int(s)\n",
    "except ValueError:\n",
    "    raise ValueError(\"String can't be changed into integer\")\n"
   ]
  },
  {
   "cell_type": "code",
   "execution_count": 30,
   "id": "95eb7fc2-e1ea-4a19-98d5-a5284d9f472f",
   "metadata": {},
   "outputs": [
    {
     "name": "stdin",
     "output_type": "stream",
     "text": [
      "enter your age 23\n"
     ]
    },
    {
     "name": "stdout",
     "output_type": "stream",
     "text": [
      "age is valid\n"
     ]
    }
   ],
   "source": [
    "#Q5\n",
    "'''Custom exception mean an Exception object that can include extra data about the cause of the error:\n",
    "a string, maybe also some other arbitrary object relevant to the exception.'''\n",
    "# need of custom exception\n",
    "'''Built-in exceptions offer information about Python-related problems,\n",
    "  and custom exceptions will add information about project-related problems.\n",
    "  That way, you can design your code in a way that combines Python code with the language of the project.'''\n",
    "class validateage(Exception):\n",
    "    def __init__(self, msg):\n",
    "        self.msg=msg\n",
    "        \n",
    "        \n",
    "def validate_age(age):\n",
    "    if age < 10:\n",
    "        raise validateage(\"age should not be lesser then zero\")\n",
    "    elif age>65:\n",
    "        raise validateage(\"age is too high\")\n",
    "    else:\n",
    "        print(\"age is valid\")\n",
    "try:\n",
    "    age = int(input(\"enter your age\"))\n",
    "    validate_age(age)\n",
    "except validateage as e:\n",
    "    print(e)"
   ]
  },
  {
   "cell_type": "code",
   "execution_count": 32,
   "id": "1f48a2da-06a7-4d75-a6f2-d3eb5fdb92a5",
   "metadata": {},
   "outputs": [
    {
     "name": "stdin",
     "output_type": "stream",
     "text": [
      "enter your highest degree name (as Bachelor , master degree or phd) Bachelor degree\n"
     ]
    }
   ],
   "source": [
    "# Q6\n",
    "class class1(Exception):\n",
    "    def __init__(self, name):\n",
    "        self.name = name\n",
    "        \n",
    "def class_pw(degree):\n",
    "    if degree == \"Bachelor degree\" or degree == \"Master degree\" or degree==\"phd\":\n",
    "        raise class1(\"Qualified\")\n",
    "    else:\n",
    "        print (\"Disqualified\")\n",
    "try:\n",
    "    degree = input(\"enter your highest degree name (as Bachelor , master degree or phd)\")\n",
    "    class1(degree)\n",
    "except class1 as f:\n",
    "    print(f)"
   ]
  },
  {
   "cell_type": "code",
   "execution_count": null,
   "id": "da0b810f-541c-47af-b473-284750808d0f",
   "metadata": {},
   "outputs": [],
   "source": []
  }
 ],
 "metadata": {
  "kernelspec": {
   "display_name": "Python 3 (ipykernel)",
   "language": "python",
   "name": "python3"
  },
  "language_info": {
   "codemirror_mode": {
    "name": "ipython",
    "version": 3
   },
   "file_extension": ".py",
   "mimetype": "text/x-python",
   "name": "python",
   "nbconvert_exporter": "python",
   "pygments_lexer": "ipython3",
   "version": "3.10.8"
  }
 },
 "nbformat": 4,
 "nbformat_minor": 5
}
