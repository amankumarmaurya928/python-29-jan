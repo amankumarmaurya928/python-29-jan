{
 "cells": [
  {
   "cell_type": "code",
   "execution_count": 6,
   "id": "701a0e19-f442-4cbf-a6dd-a2634adecbfc",
   "metadata": {},
   "outputs": [],
   "source": [
    "name =\"Data science master\""
   ]
  },
  {
   "cell_type": "code",
   "execution_count": 7,
   "id": "9b116810-5e4d-42fb-ae40-a14a31e6276b",
   "metadata": {},
   "outputs": [
    {
     "data": {
      "text/plain": [
       "'dATA SCIENCE MASTER'"
      ]
     },
     "execution_count": 7,
     "metadata": {},
     "output_type": "execute_result"
    }
   ],
   "source": [
    "name.swapcase()"
   ]
  },
  {
   "cell_type": "code",
   "execution_count": 8,
   "id": "e9eade14-49c4-4e54-af93-fe2673eddf87",
   "metadata": {},
   "outputs": [
    {
     "data": {
      "text/plain": [
       "'Data Science Master'"
      ]
     },
     "execution_count": 8,
     "metadata": {},
     "output_type": "execute_result"
    }
   ],
   "source": [
    "name.title()"
   ]
  },
  {
   "cell_type": "code",
   "execution_count": 9,
   "id": "f590db38-ad11-4f0e-9cfe-225a027cb882",
   "metadata": {},
   "outputs": [
    {
     "data": {
      "text/plain": [
       "'Data science master'"
      ]
     },
     "execution_count": 9,
     "metadata": {},
     "output_type": "execute_result"
    }
   ],
   "source": [
    "name.capitalize()"
   ]
  },
  {
   "cell_type": "code",
   "execution_count": 10,
   "id": "0bb4a448-cba9-48e6-9896-7c6098a8f33f",
   "metadata": {},
   "outputs": [
    {
     "data": {
      "text/plain": [
       "'retsam ecneics ataD'"
      ]
     },
     "execution_count": 10,
     "metadata": {},
     "output_type": "execute_result"
    }
   ],
   "source": [
    "#reversing\n",
    "name[::-1]"
   ]
  },
  {
   "cell_type": "code",
   "execution_count": 13,
   "id": "2f297d6b-1157-4fb8-88ad-ef775ee272ed",
   "metadata": {},
   "outputs": [
    {
     "data": {
      "text/plain": [
       "'r e t s a m   e c n e i c s   a t a D'"
      ]
     },
     "execution_count": 13,
     "metadata": {},
     "output_type": "execute_result"
    }
   ],
   "source": [
    "\" \".join(reversed (name))"
   ]
  },
  {
   "cell_type": "code",
   "execution_count": 14,
   "id": "66b4465c-865e-48ca-892c-da803e9ca047",
   "metadata": {},
   "outputs": [
    {
     "data": {
      "text/plain": [
       "'kamanuamanmamanaamanr'"
      ]
     },
     "execution_count": 14,
     "metadata": {},
     "output_type": "execute_result"
    }
   ],
   "source": [
    "\"aman\".join(\"kumar\")"
   ]
  },
  {
   "cell_type": "code",
   "execution_count": 15,
   "id": "d1ab6ca7-cd34-43f2-8e3b-13d519683015",
   "metadata": {},
   "outputs": [
    {
     "data": {
      "text/plain": [
       "'a pwskills n pwskills t'"
      ]
     },
     "execution_count": 15,
     "metadata": {},
     "output_type": "execute_result"
    }
   ],
   "source": [
    "' pwskills '.join('ant')"
   ]
  },
  {
   "cell_type": "code",
   "execution_count": 16,
   "id": "0aa6d10f-8472-4283-a693-147d6dcd60ba",
   "metadata": {},
   "outputs": [
    {
     "data": {
      "text/plain": [
       "'t pwskills n pwskills a'"
      ]
     },
     "execution_count": 16,
     "metadata": {},
     "output_type": "execute_result"
    }
   ],
   "source": [
    "' pwskills '.join(reversed('ant'))"
   ]
  },
  {
   "cell_type": "code",
   "execution_count": 18,
   "id": "ab89e89b-b836-4a4c-bae8-8057d3590a71",
   "metadata": {},
   "outputs": [
    {
     "data": {
      "text/plain": [
       "['t', 'n', 'a']"
      ]
     },
     "execution_count": 18,
     "metadata": {},
     "output_type": "execute_result"
    }
   ],
   "source": [
    "#typecasting\n",
    "list(reversed('ant'))"
   ]
  },
  {
   "cell_type": "code",
   "execution_count": 17,
   "id": "a5cdcb85-b7d9-4a62-a710-d02aa8b5192f",
   "metadata": {},
   "outputs": [],
   "source": [
    "str1='pw is good company'"
   ]
  },
  {
   "cell_type": "code",
   "execution_count": 20,
   "id": "4128972e-383a-4bf0-b3ec-07070535e974",
   "metadata": {},
   "outputs": [
    {
     "name": "stdout",
     "output_type": "stream",
     "text": [
      "retsam ecneics ataD"
     ]
    }
   ],
   "source": [
    "for i in list(reversed(name)):\n",
    "    print(i,end=\"\")"
   ]
  },
  {
   "cell_type": "code",
   "execution_count": 21,
   "id": "ef6b40c9-2841-4034-99e4-c99a56629977",
   "metadata": {},
   "outputs": [],
   "source": [
    "# reversing character from the end of the string"
   ]
  },
  {
   "cell_type": "code",
   "execution_count": 31,
   "id": "5636d381-dca3-41e9-b304-1afe9b22ddd6",
   "metadata": {},
   "outputs": [],
   "source": [
    "string_a=' pskills'"
   ]
  },
  {
   "cell_type": "code",
   "execution_count": 32,
   "id": "75a64809-f77e-4392-84ab-619df7851852",
   "metadata": {},
   "outputs": [
    {
     "data": {
      "text/plain": [
       "' pskills'"
      ]
     },
     "execution_count": 32,
     "metadata": {},
     "output_type": "execute_result"
    }
   ],
   "source": [
    "string_a.strip('')"
   ]
  },
  {
   "cell_type": "code",
   "execution_count": 33,
   "id": "44148396-dded-40d3-aa20-9a9a20c34d8e",
   "metadata": {},
   "outputs": [
    {
     "data": {
      "text/plain": [
       "' pskills'"
      ]
     },
     "execution_count": 33,
     "metadata": {},
     "output_type": "execute_result"
    }
   ],
   "source": [
    "string_a.lstrip('')"
   ]
  },
  {
   "cell_type": "code",
   "execution_count": 34,
   "id": "6e10178c-81c4-48ef-b8c6-76791e0c4251",
   "metadata": {},
   "outputs": [
    {
     "data": {
      "text/plain": [
       "' pskills'"
      ]
     },
     "execution_count": 34,
     "metadata": {},
     "output_type": "execute_result"
    }
   ],
   "source": [
    "string_a.rstrip('')"
   ]
  },
  {
   "cell_type": "code",
   "execution_count": 36,
   "id": "b6c092f4-c739-46d7-aa5a-9d8a5a638adb",
   "metadata": {},
   "outputs": [
    {
     "data": {
      "text/plain": [
       "'greeting from pwskills'"
      ]
     },
     "execution_count": 36,
     "metadata": {},
     "output_type": "execute_result"
    }
   ],
   "source": [
    "string_n='greeting to pwskills'\n",
    "string_n.replace('to','from')"
   ]
  },
  {
   "cell_type": "code",
   "execution_count": 37,
   "id": "1d19b84a-8c6f-4e46-afc7-15673f2badda",
   "metadata": {},
   "outputs": [
    {
     "data": {
      "text/plain": [
       "'hello world'"
      ]
     },
     "execution_count": 37,
     "metadata": {},
     "output_type": "execute_result"
    }
   ],
   "source": [
    "'hello world'"
   ]
  },
  {
   "cell_type": "code",
   "execution_count": null,
   "id": "acf416c9-4637-463d-b15f-3c7c65de3003",
   "metadata": {},
   "outputs": [],
   "source": []
  },
  {
   "cell_type": "code",
   "execution_count": 40,
   "id": "ab1f3b83-f0c4-4108-a5cf-591f3f40df59",
   "metadata": {},
   "outputs": [
    {
     "data": {
      "text/plain": [
       "'test gmail.com'"
      ]
     },
     "execution_count": 40,
     "metadata": {},
     "output_type": "execute_result"
    }
   ],
   "source": [
    "string_n='test@gmail.com'\n",
    "string_n.replace('@',' ')\n",
    "\n"
   ]
  },
  {
   "cell_type": "code",
   "execution_count": 41,
   "id": "759bac81-f1dc-4f05-8de3-72dd3065e0f9",
   "metadata": {},
   "outputs": [
    {
     "data": {
      "text/plain": [
       "'hello world'"
      ]
     },
     "execution_count": 41,
     "metadata": {},
     "output_type": "execute_result"
    }
   ],
   "source": [
    "'hello world'"
   ]
  },
  {
   "cell_type": "code",
   "execution_count": 42,
   "id": "7efe2e3f-a36d-4700-8f53-9f491124ad33",
   "metadata": {},
   "outputs": [
    {
     "data": {
      "text/plain": [
       "'hello   world'"
      ]
     },
     "execution_count": 42,
     "metadata": {},
     "output_type": "execute_result"
    }
   ],
   "source": [
    "'hello \\tworld'.expandtabs()"
   ]
  },
  {
   "cell_type": "code",
   "execution_count": 44,
   "id": "fce89a3c-1372-449b-b812-3319fc82c48a",
   "metadata": {},
   "outputs": [
    {
     "data": {
      "text/plain": [
       "'welcome topwskills welcome to data science masters'"
      ]
     },
     "execution_count": 44,
     "metadata": {},
     "output_type": "execute_result"
    }
   ],
   "source": [
    "str1='welcome topwskills welcome to dat cience masters'\n",
    "str1.replace('dat','data').replace('cience','science')"
   ]
  },
  {
   "cell_type": "markdown",
   "id": "0a6637e9-1b4e-4fe1-8fdb-09a6f6d5c903",
   "metadata": {},
   "source": [
    "# "
   ]
  },
  {
   "cell_type": "code",
   "execution_count": 45,
   "id": "ffa2b820-3305-411e-9773-875db2270d13",
   "metadata": {},
   "outputs": [
    {
     "data": {
      "text/plain": [
       "'welcome topwskills welcome to dat cience masters'"
      ]
     },
     "execution_count": 45,
     "metadata": {},
     "output_type": "execute_result"
    }
   ],
   "source": [
    "str1"
   ]
  },
  {
   "cell_type": "code",
   "execution_count": 46,
   "id": "4f516b52-b9d5-49f2-ac5b-691c45dcf890",
   "metadata": {},
   "outputs": [
    {
     "data": {
      "text/plain": [
       "False"
      ]
     },
     "execution_count": 46,
     "metadata": {},
     "output_type": "execute_result"
    }
   ],
   "source": [
    "str1.isupper()"
   ]
  },
  {
   "cell_type": "code",
   "execution_count": 47,
   "id": "5f96a861-304e-488d-9aad-08a651972c1a",
   "metadata": {},
   "outputs": [
    {
     "data": {
      "text/plain": [
       "True"
      ]
     },
     "execution_count": 47,
     "metadata": {},
     "output_type": "execute_result"
    }
   ],
   "source": [
    "str1.islower()"
   ]
  },
  {
   "cell_type": "markdown",
   "id": "526ea885-1b56-4b71-8467-66e6fb705fe1",
   "metadata": {},
   "source": [
    "## ' '.isspace()"
   ]
  },
  {
   "cell_type": "code",
   "execution_count": 50,
   "id": "b8da2b87-8a9f-4ff3-93ed-75e2bad1a837",
   "metadata": {},
   "outputs": [
    {
     "name": "stdout",
     "output_type": "stream",
     "text": [
      "hello\n"
     ]
    }
   ],
   "source": [
    "if ' '.isspace():\n",
    "    print('hello')"
   ]
  },
  {
   "cell_type": "code",
   "execution_count": 51,
   "id": "30c59296-5809-49c0-97e0-3463a3bf22fd",
   "metadata": {},
   "outputs": [],
   "source": [
    "str2='pwskills'"
   ]
  },
  {
   "cell_type": "code",
   "execution_count": 52,
   "id": "fde20c8a-da24-418d-9be9-03c7a132eae4",
   "metadata": {},
   "outputs": [
    {
     "data": {
      "text/plain": [
       "True"
      ]
     },
     "execution_count": 52,
     "metadata": {},
     "output_type": "execute_result"
    }
   ],
   "source": [
    "str2.endswith('s')"
   ]
  },
  {
   "cell_type": "code",
   "execution_count": 53,
   "id": "95f1eb5e-fa49-4e0b-bdae-e548c3f65b55",
   "metadata": {},
   "outputs": [
    {
     "data": {
      "text/plain": [
       "True"
      ]
     },
     "execution_count": 53,
     "metadata": {},
     "output_type": "execute_result"
    }
   ],
   "source": [
    "str2.startswith('p')"
   ]
  },
  {
   "cell_type": "code",
   "execution_count": 54,
   "id": "8f4a5c3c-447a-4da3-a542-488a5b19c6b8",
   "metadata": {},
   "outputs": [
    {
     "data": {
      "text/plain": [
       "True"
      ]
     },
     "execution_count": 54,
     "metadata": {},
     "output_type": "execute_result"
    }
   ],
   "source": [
    "#check if all the char. in string are alphnumerrrrrric\n",
    "a='abcd1234'\n",
    "a.isalnum()"
   ]
  },
  {
   "cell_type": "code",
   "execution_count": 55,
   "id": "639610e0-5f37-44b0-a34a-86482cca5060",
   "metadata": {},
   "outputs": [],
   "source": [
    "#to count the number of chacacter in the strings"
   ]
  },
  {
   "cell_type": "code",
   "execution_count": 59,
   "id": "78dd3a28-4688-416d-a232-a8b935b18951",
   "metadata": {},
   "outputs": [
    {
     "name": "stdout",
     "output_type": "stream",
     "text": [
      "8\n"
     ]
    }
   ],
   "source": [
    "count=0\n",
    "for i in str2:\n",
    "    count=count+1\n",
    "print(count)"
   ]
  },
  {
   "cell_type": "code",
   "execution_count": 58,
   "id": "b1bfc4cd-a91f-4a12-8fa3-452c8249abff",
   "metadata": {},
   "outputs": [
    {
     "data": {
      "text/plain": [
       "8"
      ]
     },
     "execution_count": 58,
     "metadata": {},
     "output_type": "execute_result"
    }
   ],
   "source": [
    "len(str2)"
   ]
  },
  {
   "cell_type": "code",
   "execution_count": 60,
   "id": "b234f9e8-e978-4105-b011-a20cd7e9913a",
   "metadata": {},
   "outputs": [
    {
     "data": {
      "text/plain": [
       "'pwskills'"
      ]
     },
     "execution_count": 60,
     "metadata": {},
     "output_type": "execute_result"
    }
   ],
   "source": [
    "str2"
   ]
  },
  {
   "cell_type": "code",
   "execution_count": 62,
   "id": "b8a70733-11a4-4eeb-88c4-e6771454dc54",
   "metadata": {},
   "outputs": [
    {
     "name": "stdout",
     "output_type": "stream",
     "text": [
      "p\n",
      "w\n",
      "s\n",
      "k\n",
      "i\n",
      "l\n",
      "l\n",
      "s\n"
     ]
    }
   ],
   "source": [
    "for i in str2:\n",
    "    print(i)"
   ]
  },
  {
   "cell_type": "code",
   "execution_count": 63,
   "id": "45352c06-c9bb-4f9a-9cef-c4f279c2df2f",
   "metadata": {},
   "outputs": [
    {
     "data": {
      "text/plain": [
       "range(0, 8)"
      ]
     },
     "execution_count": 63,
     "metadata": {},
     "output_type": "execute_result"
    }
   ],
   "source": [
    "range(len(str2))"
   ]
  },
  {
   "cell_type": "code",
   "execution_count": 66,
   "id": "a11a9470-daec-4b0a-bd36-6f461d8941c8",
   "metadata": {},
   "outputs": [
    {
     "name": "stdout",
     "output_type": "stream",
     "text": [
      "0 = p\n",
      "1 = w\n",
      "2 = s\n",
      "3 = k\n",
      "4 = i\n",
      "5 = l\n",
      "6 = l\n",
      "7 = s\n"
     ]
    }
   ],
   "source": [
    "for i in range(len(str2)):\n",
    "    print(i,'=',str2[i])"
   ]
  },
  {
   "cell_type": "code",
   "execution_count": 67,
   "id": "20735b24-7628-4432-abef-6b1836930d6d",
   "metadata": {},
   "outputs": [],
   "source": [
    "#wecan use index  to itarate string revers direction"
   ]
  },
  {
   "cell_type": "code",
   "execution_count": 69,
   "id": "3356df8c-2efe-4cee-8fa0-36136df5560a",
   "metadata": {},
   "outputs": [
    {
     "name": "stdout",
     "output_type": "stream",
     "text": [
      "s\n",
      "l\n",
      "l\n",
      "i\n",
      "k\n",
      "s\n",
      "w\n",
      "p\n"
     ]
    }
   ],
   "source": [
    "for i in range(len(str2)-1,-1,-1):\n",
    "    print(str2[i])"
   ]
  },
  {
   "cell_type": "code",
   "execution_count": 70,
   "id": "a8654553-96a8-45b4-9bce-f6328460711e",
   "metadata": {},
   "outputs": [
    {
     "name": "stdout",
     "output_type": "stream",
     "text": [
      "s\n",
      "l\n",
      "l\n",
      "i\n",
      "k\n",
      "s\n",
      "w\n",
      "p\n"
     ]
    }
   ],
   "source": [
    "string='pwskills'\n",
    "ch=len(string)-1\n",
    "while ch>=0:\n",
    "    print(string[ch])\n",
    "    ch=ch-1"
   ]
  },
  {
   "cell_type": "code",
   "execution_count": 72,
   "id": "d5f0a7fd-c5cd-424b-9eae-17ae2f399aea",
   "metadata": {},
   "outputs": [
    {
     "data": {
      "text/plain": [
       "-1"
      ]
     },
     "execution_count": 72,
     "metadata": {},
     "output_type": "execute_result"
    }
   ],
   "source": [
    "ch"
   ]
  },
  {
   "cell_type": "code",
   "execution_count": 73,
   "id": "02478772-5776-430c-a27e-ebfc8b479698",
   "metadata": {},
   "outputs": [
    {
     "data": {
      "text/plain": [
       "7"
      ]
     },
     "execution_count": 73,
     "metadata": {},
     "output_type": "execute_result"
    }
   ],
   "source": [
    "string='pwskills'\n",
    "ch=len(string)-1\n",
    "ch"
   ]
  },
  {
   "cell_type": "code",
   "execution_count": 74,
   "id": "bc9605f5-7167-4a64-bedd-5ed463ca8b20",
   "metadata": {},
   "outputs": [
    {
     "data": {
      "text/plain": [
       "('s', 'l')"
      ]
     },
     "execution_count": 74,
     "metadata": {},
     "output_type": "execute_result"
    }
   ],
   "source": [
    "string[7],string[6]"
   ]
  },
  {
   "cell_type": "code",
   "execution_count": 75,
   "id": "b28a6e38-4f34-4a7d-9180-bee59833758f",
   "metadata": {},
   "outputs": [
    {
     "name": "stdout",
     "output_type": "stream",
     "text": [
      "sllikswp"
     ]
    }
   ],
   "source": [
    "string='pwskills'\n",
    "ch=len(string)-1\n",
    "while ch>=0:\n",
    "    print(string[ch],end=\"\")\n",
    "    ch=ch-1"
   ]
  },
  {
   "cell_type": "code",
   "execution_count": 76,
   "id": "2497be62-4b7b-4fd8-992e-45c342730eae",
   "metadata": {},
   "outputs": [
    {
     "name": "stdout",
     "output_type": "stream",
     "text": [
      "sllikswp"
     ]
    }
   ],
   "source": [
    "#alternate\n",
    "for i in range(len(string)):\n",
    "    print(string[len(string)-(i+1)],end='')"
   ]
  },
  {
   "cell_type": "code",
   "execution_count": 7,
   "id": "9a966a04-00b5-4667-a4e2-43ba7ac9463c",
   "metadata": {},
   "outputs": [],
   "source": [
    "name=\"pwskills\"\n",
    "vowels=\"aeiou\""
   ]
  },
  {
   "cell_type": "code",
   "execution_count": 10,
   "id": "08baea7a-0a23-4107-ae57-06d51b3feea6",
   "metadata": {},
   "outputs": [
    {
     "name": "stdout",
     "output_type": "stream",
     "text": [
      "p is not a vowel\n",
      "w is not a vowel\n",
      "s is not a vowel\n",
      "k is not a vowel\n",
      "i is a vowel\n",
      "l is not a vowel\n",
      "l is not a vowel\n",
      "s is not a vowel\n"
     ]
    }
   ],
   "source": [
    "for ch in name:\n",
    "    if ch in vowels:\n",
    "        print(\"{} is a vowel\".format(ch))\n",
    "    else:\n",
    "        print(\"{} is not a vowel\".format(ch))"
   ]
  },
  {
   "cell_type": "code",
   "execution_count": 94,
   "id": "d00e232a-fdc6-4e65-b93b-d846417440a9",
   "metadata": {},
   "outputs": [],
   "source": [
    "# list\n"
   ]
  },
  {
   "cell_type": "code",
   "execution_count": 95,
   "id": "46d2915c-875c-4371-bf04-ef04bee8ecf5",
   "metadata": {},
   "outputs": [
    {
     "data": {
      "text/plain": [
       "[]"
      ]
     },
     "execution_count": 95,
     "metadata": {},
     "output_type": "execute_result"
    }
   ],
   "source": [
    "[]"
   ]
  },
  {
   "cell_type": "code",
   "execution_count": 97,
   "id": "2e95f838-ad25-41fd-af05-da6c0b9e2c66",
   "metadata": {},
   "outputs": [
    {
     "data": {
      "text/plain": [
       "list"
      ]
     },
     "execution_count": 97,
     "metadata": {},
     "output_type": "execute_result"
    }
   ],
   "source": [
    "type([])"
   ]
  },
  {
   "cell_type": "code",
   "execution_count": 98,
   "id": "786ef00b-2a9d-4cc0-9665-cc71f5cbff59",
   "metadata": {},
   "outputs": [
    {
     "data": {
      "text/plain": [
       "['a', 'm', 'a', 'n', 32]"
      ]
     },
     "execution_count": 98,
     "metadata": {},
     "output_type": "execute_result"
    }
   ],
   "source": [
    "['a','m','a','n',32]"
   ]
  },
  {
   "cell_type": "code",
   "execution_count": 99,
   "id": "d4043341-8309-4575-abb1-977dcedf2653",
   "metadata": {},
   "outputs": [
    {
     "data": {
      "text/plain": [
       "'pwskills'"
      ]
     },
     "execution_count": 99,
     "metadata": {},
     "output_type": "execute_result"
    }
   ],
   "source": [
    "str2"
   ]
  },
  {
   "cell_type": "code",
   "execution_count": 106,
   "id": "ae3ed865-4e87-49ce-9a14-fc03fdc729bb",
   "metadata": {},
   "outputs": [
    {
     "data": {
      "text/plain": [
       "['p', 'w', 's', 'k', 'i', 'l', 'l', 's']"
      ]
     },
     "execution_count": 106,
     "metadata": {},
     "output_type": "execute_result"
    }
   ],
   "source": [
    "list(str2)"
   ]
  },
  {
   "cell_type": "code",
   "execution_count": 104,
   "id": "afcec097-4956-4237-b934-5ce6d194124f",
   "metadata": {},
   "outputs": [],
   "source": [
    "str1='pw skills data science master'"
   ]
  },
  {
   "cell_type": "code",
   "execution_count": 108,
   "id": "2304fb25-8788-4d2a-81e9-e94c7ebfeaa9",
   "metadata": {},
   "outputs": [
    {
     "data": {
      "text/plain": [
       "['pw', 'skills', 'data', 'science', 'master']"
      ]
     },
     "execution_count": 108,
     "metadata": {},
     "output_type": "execute_result"
    }
   ],
   "source": [
    "list(str1.split(\" \"))"
   ]
  },
  {
   "cell_type": "code",
   "execution_count": 111,
   "id": "dba4649a-5ceb-47cd-96a3-8dfd469103d0",
   "metadata": {},
   "outputs": [],
   "source": [
    "lst1=str1.split(' ')"
   ]
  },
  {
   "cell_type": "code",
   "execution_count": 112,
   "id": "c68ecc50-2e73-4d11-b3e2-8e23e86a292c",
   "metadata": {},
   "outputs": [
    {
     "data": {
      "text/plain": [
       "['pw', 'skills', 'data', 'science', 'master']"
      ]
     },
     "execution_count": 112,
     "metadata": {},
     "output_type": "execute_result"
    }
   ],
   "source": [
    "lst1"
   ]
  },
  {
   "cell_type": "code",
   "execution_count": 114,
   "id": "ccc485d1-8a8a-4159-9b59-b175ba55ed26",
   "metadata": {},
   "outputs": [
    {
     "data": {
      "text/plain": [
       "'data'"
      ]
     },
     "execution_count": 114,
     "metadata": {},
     "output_type": "execute_result"
    }
   ],
   "source": [
    "lst1[2]"
   ]
  },
  {
   "cell_type": "code",
   "execution_count": 115,
   "id": "100039de-2c38-40a0-9211-2486d0f169cf",
   "metadata": {},
   "outputs": [
    {
     "data": {
      "text/plain": [
       "['pw', 'skills', 'data', 'science', 'master']"
      ]
     },
     "execution_count": 115,
     "metadata": {},
     "output_type": "execute_result"
    }
   ],
   "source": [
    "lst1[0:]"
   ]
  },
  {
   "cell_type": "code",
   "execution_count": 116,
   "id": "1f31fc66-7e0b-47af-91f3-28b9803bd097",
   "metadata": {},
   "outputs": [
    {
     "data": {
      "text/plain": [
       "['pw', 'skills', 'data', 'science', 'master']"
      ]
     },
     "execution_count": 116,
     "metadata": {},
     "output_type": "execute_result"
    }
   ],
   "source": [
    "lst1"
   ]
  },
  {
   "cell_type": "code",
   "execution_count": 117,
   "id": "911caac9-e7bf-41e6-a5d2-64ff05bb3a4f",
   "metadata": {},
   "outputs": [
    {
     "data": {
      "text/plain": [
       "['pw', 'skills', 'data', 'science', 'master', 'new element', 3]"
      ]
     },
     "execution_count": 117,
     "metadata": {},
     "output_type": "execute_result"
    }
   ],
   "source": [
    "#concatenation operation\n",
    "lst1+['new element',3]"
   ]
  },
  {
   "cell_type": "code",
   "execution_count": 118,
   "id": "c3d84e8b-e5bd-4780-bb69-2b1d8b190d61",
   "metadata": {},
   "outputs": [],
   "source": [
    "#multi list in list"
   ]
  },
  {
   "cell_type": "code",
   "execution_count": 119,
   "id": "acc7c627-55f5-4111-b0b9-223a16f01441",
   "metadata": {},
   "outputs": [
    {
     "data": {
      "text/plain": [
       "['pw', 'skills', 'data', 'science', 'master']"
      ]
     },
     "execution_count": 119,
     "metadata": {},
     "output_type": "execute_result"
    }
   ],
   "source": [
    "lst1"
   ]
  },
  {
   "cell_type": "code",
   "execution_count": 126,
   "id": "ae6cf93a-4d49-4cf8-be24-893d316ec234",
   "metadata": {},
   "outputs": [],
   "source": [
    "lst2=lst1+[['new',2,3,[1,2,3],3]]"
   ]
  },
  {
   "cell_type": "code",
   "execution_count": 124,
   "id": "ff4a40e3-0687-4f70-abf2-74bbfb50a025",
   "metadata": {},
   "outputs": [
    {
     "data": {
      "text/plain": [
       "['pw',\n",
       " 'skills',\n",
       " 'data',\n",
       " 'science',\n",
       " 'master',\n",
       " 'pw',\n",
       " 'skills',\n",
       " 'data',\n",
       " 'science',\n",
       " 'master']"
      ]
     },
     "execution_count": 124,
     "metadata": {},
     "output_type": "execute_result"
    }
   ],
   "source": [
    "lst1*2"
   ]
  },
  {
   "cell_type": "code",
   "execution_count": 127,
   "id": "0ed53cff-4814-4fb3-9425-f8ec31c93d0f",
   "metadata": {},
   "outputs": [
    {
     "data": {
      "text/plain": [
       "['pw', 'skills', 'data', 'science', 'master', ['new', 2, 3, [1, 2, 3], 3]]"
      ]
     },
     "execution_count": 127,
     "metadata": {},
     "output_type": "execute_result"
    }
   ],
   "source": [
    "lst2"
   ]
  },
  {
   "cell_type": "code",
   "execution_count": 132,
   "id": "a9df4c77-f288-492d-91b4-280a61398deb",
   "metadata": {},
   "outputs": [
    {
     "data": {
      "text/plain": [
       "3"
      ]
     },
     "execution_count": 132,
     "metadata": {},
     "output_type": "execute_result"
    }
   ],
   "source": [
    "lst2[-1][4]"
   ]
  },
  {
   "cell_type": "code",
   "execution_count": 12,
   "id": "d6c8fe1b-a7a1-4bff-b8e8-c979dbbfb17c",
   "metadata": {},
   "outputs": [
    {
     "ename": "NameError",
     "evalue": "name 'lst1' is not defined",
     "output_type": "error",
     "traceback": [
      "\u001b[0;31m---------------------------------------------------------------------------\u001b[0m",
      "\u001b[0;31mNameError\u001b[0m                                 Traceback (most recent call last)",
      "Cell \u001b[0;32mIn[12], line 1\u001b[0m\n\u001b[0;32m----> 1\u001b[0m \u001b[43mlst1\u001b[49m\n",
      "\u001b[0;31mNameError\u001b[0m: name 'lst1' is not defined"
     ]
    }
   ],
   "source": [
    "lst1"
   ]
  },
  {
   "cell_type": "code",
   "execution_count": 11,
   "id": "ddf04ace-b51a-4c8c-9e41-24fe8f677d68",
   "metadata": {},
   "outputs": [
    {
     "ename": "NameError",
     "evalue": "name 'lst1' is not defined",
     "output_type": "error",
     "traceback": [
      "\u001b[0;31m---------------------------------------------------------------------------\u001b[0m",
      "\u001b[0;31mNameError\u001b[0m                                 Traceback (most recent call last)",
      "Cell \u001b[0;32mIn[11], line 1\u001b[0m\n\u001b[0;32m----> 1\u001b[0m \u001b[38;5;28;01mfor\u001b[39;00m i \u001b[38;5;129;01min\u001b[39;00m \u001b[43mlst1\u001b[49m:\n\u001b[1;32m      2\u001b[0m     \u001b[38;5;28mprint\u001b[39m(i)\n\u001b[1;32m      3\u001b[0m     \u001b[38;5;28;01mif\u001b[39;00m \u001b[38;5;124m'\u001b[39m\u001b[38;5;124mscience\u001b[39m\u001b[38;5;124m'\u001b[39m \u001b[38;5;129;01min\u001b[39;00m lst1:\n",
      "\u001b[0;31mNameError\u001b[0m: name 'lst1' is not defined"
     ]
    }
   ],
   "source": [
    "for i in lst1:\n",
    "    print(i)\n",
    "    if 'science' in lst1:\n",
    "        print(i)\n",
    "        break"
   ]
  },
  {
   "cell_type": "code",
   "execution_count": 140,
   "id": "437b664d-4b9f-4712-8ab5-e098bf8175ff",
   "metadata": {},
   "outputs": [
    {
     "name": "stdout",
     "output_type": "stream",
     "text": [
      "science\n"
     ]
    }
   ],
   "source": [
    "for i in lst1:\n",
    "    if i==\"science\":\n",
    "        print(i)\n",
    "        break\n",
    "    "
   ]
  },
  {
   "cell_type": "code",
   "execution_count": 141,
   "id": "ae6a3810-d333-4ce5-86a4-29d34eef979e",
   "metadata": {},
   "outputs": [
    {
     "data": {
      "text/plain": [
       "True"
      ]
     },
     "execution_count": 141,
     "metadata": {},
     "output_type": "execute_result"
    }
   ],
   "source": [
    "#check element in list \n",
    "lst=[1,2,3,4]\n",
    "4 in lst"
   ]
  },
  {
   "cell_type": "code",
   "execution_count": 142,
   "id": "176b5601-0adc-48c8-b970-e6e9565ab63d",
   "metadata": {},
   "outputs": [],
   "source": [
    "lst1=['monkey','lion','tiger','king']"
   ]
  },
  {
   "cell_type": "code",
   "execution_count": 143,
   "id": "b23a7f91-ff88-462d-a914-158b588637da",
   "metadata": {},
   "outputs": [],
   "source": [
    "lst2=[5,6,7,8,5,8,6]"
   ]
  },
  {
   "cell_type": "code",
   "execution_count": 144,
   "id": "923e454d-0728-485a-90b4-96c38f2bf57e",
   "metadata": {},
   "outputs": [
    {
     "name": "stdout",
     "output_type": "stream",
     "text": [
      "tiger\n"
     ]
    }
   ],
   "source": [
    "print(max(lst1))"
   ]
  },
  {
   "cell_type": "code",
   "execution_count": 145,
   "id": "117f5830-671a-42f1-add2-a992b4c9b3d0",
   "metadata": {},
   "outputs": [
    {
     "data": {
      "text/plain": [
       "8"
      ]
     },
     "execution_count": 145,
     "metadata": {},
     "output_type": "execute_result"
    }
   ],
   "source": [
    "max(lst2)"
   ]
  },
  {
   "cell_type": "code",
   "execution_count": 146,
   "id": "5883d919-da99-4ffd-b9fc-4deadc2aff56",
   "metadata": {},
   "outputs": [
    {
     "data": {
      "text/plain": [
       "'king'"
      ]
     },
     "execution_count": 146,
     "metadata": {},
     "output_type": "execute_result"
    }
   ],
   "source": [
    "min(lst1)"
   ]
  },
  {
   "cell_type": "code",
   "execution_count": 147,
   "id": "819cbafa-1365-4c5a-9fc2-886e9e209bf2",
   "metadata": {},
   "outputs": [
    {
     "data": {
      "text/plain": [
       "5"
      ]
     },
     "execution_count": 147,
     "metadata": {},
     "output_type": "execute_result"
    }
   ],
   "source": [
    "min(lst2)"
   ]
  },
  {
   "cell_type": "code",
   "execution_count": 148,
   "id": "52e88ab6-dfb9-4315-81fa-ea272929b5ce",
   "metadata": {},
   "outputs": [],
   "source": [
    "# append"
   ]
  },
  {
   "cell_type": "code",
   "execution_count": 149,
   "id": "5d9ead87-af6a-4154-a689-874ce0b99bd0",
   "metadata": {},
   "outputs": [],
   "source": [
    "lst3=[1,2,3,4,5,6]"
   ]
  },
  {
   "cell_type": "code",
   "execution_count": 152,
   "id": "66286230-da36-489d-acd8-9b78f6a13251",
   "metadata": {},
   "outputs": [],
   "source": [
    "lst3.append(\"pwskills\")"
   ]
  },
  {
   "cell_type": "code",
   "execution_count": 153,
   "id": "6add7955-c913-46f3-9095-e07066ffc349",
   "metadata": {},
   "outputs": [
    {
     "data": {
      "text/plain": [
       "[1, 2, 3, 4, 5, 6, 'pwskills']"
      ]
     },
     "execution_count": 153,
     "metadata": {},
     "output_type": "execute_result"
    }
   ],
   "source": [
    "lst3"
   ]
  },
  {
   "cell_type": "code",
   "execution_count": 154,
   "id": "c94480d5-35cd-44dd-b970-0d6b516942f9",
   "metadata": {},
   "outputs": [],
   "source": [
    "#append update in list "
   ]
  },
  {
   "cell_type": "code",
   "execution_count": 157,
   "id": "0697aeae-c59e-46f2-bfe4-dff7d4e0c01e",
   "metadata": {},
   "outputs": [],
   "source": [
    "lst3.append([\"data\",\"science\",\"master\"])"
   ]
  },
  {
   "cell_type": "code",
   "execution_count": 158,
   "id": "5d0800d3-c4cf-4081-a3d4-6c74602278ff",
   "metadata": {},
   "outputs": [
    {
     "data": {
      "text/plain": [
       "['monkey', 'lion', 'tiger', 'king']"
      ]
     },
     "execution_count": 158,
     "metadata": {},
     "output_type": "execute_result"
    }
   ],
   "source": [
    "lst1"
   ]
  },
  {
   "cell_type": "code",
   "execution_count": 159,
   "id": "547e3f53-e8e4-4ee5-9f6a-5e1c47780bc9",
   "metadata": {},
   "outputs": [
    {
     "data": {
      "text/plain": [
       "[1, 2, 3, 4, 5, 6, 'pwskills', ['data', 'science', 'master']]"
      ]
     },
     "execution_count": 159,
     "metadata": {},
     "output_type": "execute_result"
    }
   ],
   "source": [
    "lst3"
   ]
  },
  {
   "cell_type": "code",
   "execution_count": 160,
   "id": "23855c28-5bd8-41ff-b36f-160b67d91581",
   "metadata": {},
   "outputs": [
    {
     "data": {
      "text/plain": [
       "'king'"
      ]
     },
     "execution_count": 160,
     "metadata": {},
     "output_type": "execute_result"
    }
   ],
   "source": [
    "lst1.pop()"
   ]
  },
  {
   "cell_type": "code",
   "execution_count": 162,
   "id": "55dabba6-5b6a-4382-afe5-c82d0f43cb2b",
   "metadata": {},
   "outputs": [
    {
     "data": {
      "text/plain": [
       "['monkey', 'lion', 'tiger']"
      ]
     },
     "execution_count": 162,
     "metadata": {},
     "output_type": "execute_result"
    }
   ],
   "source": [
    "lst1"
   ]
  },
  {
   "cell_type": "code",
   "execution_count": 163,
   "id": "b3213683-8746-4993-a4f2-ab310dadb6a8",
   "metadata": {},
   "outputs": [
    {
     "data": {
      "text/plain": [
       "'monkey'"
      ]
     },
     "execution_count": 163,
     "metadata": {},
     "output_type": "execute_result"
    }
   ],
   "source": [
    "lst1.pop(0)"
   ]
  },
  {
   "cell_type": "code",
   "execution_count": 164,
   "id": "73ae7a76-f93c-4706-aa71-8536799b1884",
   "metadata": {},
   "outputs": [
    {
     "data": {
      "text/plain": [
       "['lion', 'tiger']"
      ]
     },
     "execution_count": 164,
     "metadata": {},
     "output_type": "execute_result"
    }
   ],
   "source": [
    "lst1"
   ]
  },
  {
   "cell_type": "code",
   "execution_count": 167,
   "id": "f86f53dd-b576-4bea-90e5-41b986b0af93",
   "metadata": {},
   "outputs": [],
   "source": [
    "lst1.append('king')"
   ]
  },
  {
   "cell_type": "code",
   "execution_count": 168,
   "id": "557cc76d-7d2d-4c6c-b511-4959f010ac0f",
   "metadata": {},
   "outputs": [
    {
     "data": {
      "text/plain": [
       "['lion', 'tiger', 'king']"
      ]
     },
     "execution_count": 168,
     "metadata": {},
     "output_type": "execute_result"
    }
   ],
   "source": [
    "lst1"
   ]
  },
  {
   "cell_type": "code",
   "execution_count": 169,
   "id": "1bb38364-0f5f-452a-bc0d-d569714d0793",
   "metadata": {},
   "outputs": [
    {
     "data": {
      "text/plain": [
       "'king'"
      ]
     },
     "execution_count": 169,
     "metadata": {},
     "output_type": "execute_result"
    }
   ],
   "source": [
    "lst1[2]"
   ]
  },
  {
   "cell_type": "code",
   "execution_count": 170,
   "id": "2b71fe46-f7c0-4582-b66c-a0de18cad0f6",
   "metadata": {},
   "outputs": [],
   "source": [
    "#sorting and reverse method in list"
   ]
  },
  {
   "cell_type": "code",
   "execution_count": 171,
   "id": "be743512-33b5-40cb-89de-7f792164b96b",
   "metadata": {},
   "outputs": [],
   "source": [
    "nlst=['q','w','r','t','y']"
   ]
  },
  {
   "cell_type": "code",
   "execution_count": 172,
   "id": "44968f1d-4452-4298-861d-90456ddd6c42",
   "metadata": {},
   "outputs": [
    {
     "data": {
      "text/plain": [
       "['q', 'w', 'r', 't', 'y']"
      ]
     },
     "execution_count": 172,
     "metadata": {},
     "output_type": "execute_result"
    }
   ],
   "source": [
    "nlst"
   ]
  },
  {
   "cell_type": "code",
   "execution_count": 174,
   "id": "552ae7b2-266c-4508-bafe-769bb8d25602",
   "metadata": {},
   "outputs": [
    {
     "data": {
      "text/plain": [
       "['y', 't', 'r', 'w', 'q']"
      ]
     },
     "execution_count": 174,
     "metadata": {},
     "output_type": "execute_result"
    }
   ],
   "source": [
    "nlst[::-1]"
   ]
  },
  {
   "cell_type": "code",
   "execution_count": 176,
   "id": "ebebce85-764d-4d6c-86b8-cdbebf25dccf",
   "metadata": {},
   "outputs": [],
   "source": [
    "# Inplace\n",
    "nlst.reverse()"
   ]
  },
  {
   "cell_type": "code",
   "execution_count": 177,
   "id": "4e821a4a-1e3b-42fc-952e-bd9b1cac55f7",
   "metadata": {},
   "outputs": [
    {
     "data": {
      "text/plain": [
       "['y', 't', 'r', 'w', 'q']"
      ]
     },
     "execution_count": 177,
     "metadata": {},
     "output_type": "execute_result"
    }
   ],
   "source": [
    "nlst"
   ]
  },
  {
   "cell_type": "code",
   "execution_count": 178,
   "id": "301ebba4-d101-4acf-9e4f-10ec16298575",
   "metadata": {},
   "outputs": [],
   "source": [
    "nlst.sort()"
   ]
  },
  {
   "cell_type": "code",
   "execution_count": 179,
   "id": "026b15c8-f8c4-48bb-9f23-beb3a76287fa",
   "metadata": {},
   "outputs": [
    {
     "data": {
      "text/plain": [
       "['q', 'r', 't', 'w', 'y']"
      ]
     },
     "execution_count": 179,
     "metadata": {},
     "output_type": "execute_result"
    }
   ],
   "source": [
    "nlst"
   ]
  },
  {
   "cell_type": "code",
   "execution_count": 181,
   "id": "36e72984-bb31-4af8-8ca9-af06780dc53d",
   "metadata": {},
   "outputs": [
    {
     "data": {
      "text/plain": [
       "[1, 2, 3, 4, 'king']"
      ]
     },
     "execution_count": 181,
     "metadata": {},
     "output_type": "execute_result"
    }
   ],
   "source": [
    "lst"
   ]
  },
  {
   "cell_type": "code",
   "execution_count": 182,
   "id": "5b1d5ee4-54c4-4729-9b64-705d5e22b125",
   "metadata": {},
   "outputs": [],
   "source": [
    "lst.append(['pw','rl'])"
   ]
  },
  {
   "cell_type": "code",
   "execution_count": 183,
   "id": "e21bbb87-6a1c-4566-b785-0dcbeae4c288",
   "metadata": {},
   "outputs": [
    {
     "data": {
      "text/plain": [
       "[1, 2, 3, 4, 'king', ['pw', 'rl']]"
      ]
     },
     "execution_count": 183,
     "metadata": {},
     "output_type": "execute_result"
    }
   ],
   "source": [
    "lst"
   ]
  },
  {
   "cell_type": "code",
   "execution_count": 184,
   "id": "c876069d-a881-473c-8b4e-1582a4af2f00",
   "metadata": {},
   "outputs": [],
   "source": [
    "#nsted list"
   ]
  },
  {
   "cell_type": "code",
   "execution_count": 185,
   "id": "f45885e5-9832-4b7c-91d7-e8e522f213b1",
   "metadata": {},
   "outputs": [],
   "source": [
    "lst1=[1,2,3]\n",
    "lst2=[4,5,6]\n",
    "lst3=[7,8,9]\n",
    "#make a list to matrix\n"
   ]
  },
  {
   "cell_type": "code",
   "execution_count": 187,
   "id": "8732a3be-3973-4bd3-a341-f43f524e3504",
   "metadata": {},
   "outputs": [],
   "source": [
    "matrix=[lst1,lst2,lst3]"
   ]
  },
  {
   "cell_type": "code",
   "execution_count": 188,
   "id": "57633d98-0f04-45aa-bdf3-6431e4300eba",
   "metadata": {},
   "outputs": [
    {
     "data": {
      "text/plain": [
       "[[1, 2, 3], [4, 5, 6], [7, 8, 9]]"
      ]
     },
     "execution_count": 188,
     "metadata": {},
     "output_type": "execute_result"
    }
   ],
   "source": [
    "matrix"
   ]
  },
  {
   "cell_type": "markdown",
   "id": "b3935e94-c1ab-453f-b301-5bb8c424a531",
   "metadata": {},
   "source": [
    "matrix[1][2]"
   ]
  },
  {
   "cell_type": "code",
   "execution_count": 189,
   "id": "80d3b4fe-43f2-49e8-9bc0-edf5d521db32",
   "metadata": {},
   "outputs": [
    {
     "data": {
      "text/plain": [
       "6"
      ]
     },
     "execution_count": 189,
     "metadata": {},
     "output_type": "execute_result"
    }
   ],
   "source": [
    "matrix[1][2]"
   ]
  },
  {
   "cell_type": "code",
   "execution_count": 190,
   "id": "c28c9f11-4ee0-4221-81a4-3fd9e8c18c33",
   "metadata": {},
   "outputs": [
    {
     "data": {
      "text/plain": [
       "[8, 9]"
      ]
     },
     "execution_count": 190,
     "metadata": {},
     "output_type": "execute_result"
    }
   ],
   "source": [
    "matrix[2][1:]"
   ]
  },
  {
   "cell_type": "code",
   "execution_count": 191,
   "id": "e24025ae-3d0e-4a73-8746-a4e2a2c5797e",
   "metadata": {},
   "outputs": [
    {
     "data": {
      "text/plain": [
       "[[1, 2, 3], [4, 5, 6], [7, 8, 9]]"
      ]
     },
     "execution_count": 191,
     "metadata": {},
     "output_type": "execute_result"
    }
   ],
   "source": [
    "matrix[:]"
   ]
  },
  {
   "cell_type": "code",
   "execution_count": 192,
   "id": "9a050f65-0444-42c6-9940-a246712769ea",
   "metadata": {},
   "outputs": [
    {
     "data": {
      "text/plain": [
       "[[1, 2, 3], [4, 5, 6], [7, 8, 9]]"
      ]
     },
     "execution_count": 192,
     "metadata": {},
     "output_type": "execute_result"
    }
   ],
   "source": [
    "matrix[0:]"
   ]
  },
  {
   "cell_type": "code",
   "execution_count": 193,
   "id": "a72e7a11-797b-4602-a2c3-6b21084b535f",
   "metadata": {},
   "outputs": [
    {
     "data": {
      "text/plain": [
       "3"
      ]
     },
     "execution_count": 193,
     "metadata": {},
     "output_type": "execute_result"
    }
   ],
   "source": [
    "matrix[0][2]"
   ]
  },
  {
   "cell_type": "code",
   "execution_count": 194,
   "id": "26100d9b-a3b7-42bc-b13d-40fdcc5a81eb",
   "metadata": {},
   "outputs": [
    {
     "data": {
      "text/plain": [
       "[[4, 5, 6], [7, 8, 9]]"
      ]
     },
     "execution_count": 194,
     "metadata": {},
     "output_type": "execute_result"
    }
   ],
   "source": [
    "matrix[0:][1:]"
   ]
  },
  {
   "cell_type": "code",
   "execution_count": 203,
   "id": "78411696-4070-4166-8c9d-9a6c1c41c158",
   "metadata": {},
   "outputs": [
    {
     "data": {
      "text/plain": [
       "[0, 1, 2, 3, 4, 5, 6, 7, 8, 9, 10, 11, 12, 13, 14, 15, 16, 17, 18, 19]"
      ]
     },
     "execution_count": 203,
     "metadata": {},
     "output_type": "execute_result"
    }
   ],
   "source": [
    "#list conprehension\n",
    "[i for i in range(20)]"
   ]
  },
  {
   "cell_type": "code",
   "execution_count": 209,
   "id": "40710010-a55f-442d-901d-fbaa2efb98c6",
   "metadata": {},
   "outputs": [
    {
     "data": {
      "text/plain": [
       "[0,\n",
       " 'odd',\n",
       " 2,\n",
       " 'odd',\n",
       " 4,\n",
       " 'odd',\n",
       " 6,\n",
       " 'odd',\n",
       " 8,\n",
       " 'odd',\n",
       " 10,\n",
       " 'odd',\n",
       " 12,\n",
       " 'odd',\n",
       " 14,\n",
       " 'odd',\n",
       " 16,\n",
       " 'odd',\n",
       " 18,\n",
       " 'odd']"
      ]
     },
     "execution_count": 209,
     "metadata": {},
     "output_type": "execute_result"
    }
   ],
   "source": [
    "#even range\n",
    "[i if i%2==0 else \"odd\" for i in range(20)]"
   ]
  },
  {
   "cell_type": "code",
   "execution_count": 210,
   "id": "98336d23-09b2-4a55-820e-7f5360a332cd",
   "metadata": {},
   "outputs": [],
   "source": [
    "#sum of even no. or odd no.\n",
    "lst=[1,2,3,4,5,6,7,8]"
   ]
  },
  {
   "cell_type": "code",
   "execution_count": 214,
   "id": "264098a9-77f4-43a5-8798-72a76f93f56b",
   "metadata": {},
   "outputs": [
    {
     "name": "stdout",
     "output_type": "stream",
     "text": [
      "20\n",
      "16\n"
     ]
    }
   ],
   "source": [
    "even_sum=0\n",
    "odd_sum=0\n",
    "for i in lst:\n",
    "    if i%2==0:\n",
    "        even_sum+=i\n",
    "    else:\n",
    "            odd_sum+=i\n",
    "print(even_sum)\n",
    "print(odd_sum)"
   ]
  },
  {
   "cell_type": "code",
   "execution_count": 221,
   "id": "d1965aef-8cd2-4ce7-8e45-b4df887932d0",
   "metadata": {},
   "outputs": [
    {
     "ename": "NameError",
     "evalue": "name 'num' is not defined",
     "output_type": "error",
     "traceback": [
      "\u001b[0;31m---------------------------------------------------------------------------\u001b[0m",
      "\u001b[0;31mNameError\u001b[0m                                 Traceback (most recent call last)",
      "Cell \u001b[0;32mIn[221], line 1\u001b[0m\n\u001b[0;32m----> 1\u001b[0m even_sum\u001b[38;5;241m=\u001b[39m\u001b[38;5;28msum\u001b[39m([num \u001b[38;5;28;01mfor\u001b[39;00m mun \u001b[38;5;129;01min\u001b[39;00m lst \u001b[38;5;28;01mif\u001b[39;00m num\u001b[38;5;241m%\u001b[39m\u001b[38;5;241m2\u001b[39m\u001b[38;5;241m==\u001b[39m\u001b[38;5;241m0\u001b[39m])\n\u001b[1;32m      2\u001b[0m even_sum\n",
      "Cell \u001b[0;32mIn[221], line 1\u001b[0m, in \u001b[0;36m<listcomp>\u001b[0;34m(.0)\u001b[0m\n\u001b[0;32m----> 1\u001b[0m even_sum\u001b[38;5;241m=\u001b[39m\u001b[38;5;28msum\u001b[39m([num \u001b[38;5;28;01mfor\u001b[39;00m mun \u001b[38;5;129;01min\u001b[39;00m lst \u001b[38;5;28;01mif\u001b[39;00m \u001b[43mnum\u001b[49m\u001b[38;5;241m%\u001b[39m\u001b[38;5;241m2\u001b[39m\u001b[38;5;241m==\u001b[39m\u001b[38;5;241m0\u001b[39m])\n\u001b[1;32m      2\u001b[0m even_sum\n",
      "\u001b[0;31mNameError\u001b[0m: name 'num' is not defined"
     ]
    }
   ],
   "source": [
    "even_sum=sum([num for mun in lst if num%2==0])\n",
    "even_sum"
   ]
  },
  {
   "cell_type": "code",
   "execution_count": 220,
   "id": "1df8bfec-311a-48bb-8376-6a7e73a5743e",
   "metadata": {},
   "outputs": [
    {
     "data": {
      "text/plain": [
       "20"
      ]
     },
     "execution_count": 220,
     "metadata": {},
     "output_type": "execute_result"
    }
   ],
   "source": [
    "even_sum"
   ]
  },
  {
   "cell_type": "code",
   "execution_count": 224,
   "id": "509500c0-b5d7-46fa-b97f-d2656bbeaf82",
   "metadata": {},
   "outputs": [
    {
     "ename": "SyntaxError",
     "evalue": "invalid syntax (1757539305.py, line 1)",
     "output_type": "error",
     "traceback": [
      "\u001b[0;36m  Cell \u001b[0;32mIn[224], line 1\u001b[0;36m\u001b[0m\n\u001b[0;31m    odd_sum=sum([num for num in lst if num%2|=0])\u001b[0m\n\u001b[0m                                            ^\u001b[0m\n\u001b[0;31mSyntaxError\u001b[0m\u001b[0;31m:\u001b[0m invalid syntax\n"
     ]
    }
   ],
   "source": [
    "odd_sum=sum([num for num in lst if num%2|=0])\n",
    "odd_sum"
   ]
  },
  {
   "cell_type": "code",
   "execution_count": 223,
   "id": "8cd7d414-55d2-4f26-a068-87f85c470338",
   "metadata": {},
   "outputs": [
    {
     "data": {
      "text/plain": [
       "16"
      ]
     },
     "execution_count": 223,
     "metadata": {},
     "output_type": "execute_result"
    }
   ],
   "source": [
    "odd_sum"
   ]
  },
  {
   "cell_type": "code",
   "execution_count": 226,
   "id": "cbe099bc-384a-4338-bed4-27f25b45c47e",
   "metadata": {},
   "outputs": [
    {
     "data": {
      "text/plain": [
       "[1, 4, 9, 16, 25, 36]"
      ]
     },
     "execution_count": 226,
     "metadata": {},
     "output_type": "execute_result"
    }
   ],
   "source": [
    "lst6=[1,2,3,4,5,6]\n",
    "[num**2 for num in lst6]"
   ]
  },
  {
   "cell_type": "code",
   "execution_count": 227,
   "id": "4a68870a-dca4-4cd1-9adf-20e7a09ce65d",
   "metadata": {},
   "outputs": [
    {
     "data": {
      "text/plain": [
       "[1, 2, 3, 5, 6]"
      ]
     },
     "execution_count": 227,
     "metadata": {},
     "output_type": "execute_result"
    }
   ],
   "source": [
    "# create a list of only the positive numbers in list\n",
    "lst=[1,2,3,-4,-5,-9,5,6]\n",
    "[num for num in lst if num>0]"
   ]
  },
  {
   "cell_type": "code",
   "execution_count": 228,
   "id": "75edf3fd-0eb7-4524-877e-ce1611acbcab",
   "metadata": {},
   "outputs": [
    {
     "data": {
      "text/plain": [
       "['a', 'a', 'g', 'k', 'j', 'y']"
      ]
     },
     "execution_count": 228,
     "metadata": {},
     "output_type": "execute_result"
    }
   ],
   "source": [
    "lst=['an','am','gh','kl','jf','yt']\n",
    "[word[0] for word in lst]\n"
   ]
  },
  {
   "cell_type": "code",
   "execution_count": 229,
   "id": "78028491-15bf-46da-b90d-cba4bf758f1c",
   "metadata": {},
   "outputs": [
    {
     "ename": "NameError",
     "evalue": "name 'temp' is not defined",
     "output_type": "error",
     "traceback": [
      "\u001b[0;31m---------------------------------------------------------------------------\u001b[0m",
      "\u001b[0;31mNameError\u001b[0m                                 Traceback (most recent call last)",
      "Cell \u001b[0;32mIn[229], line 1\u001b[0m\n\u001b[0;32m----> 1\u001b[0m (\u001b[38;5;241m9\u001b[39m\u001b[38;5;241m/\u001b[39m\u001b[38;5;241m5\u001b[39m)\u001b[38;5;241m*\u001b[39m\u001b[43mtemp\u001b[49m\u001b[38;5;241m+\u001b[39m\u001b[38;5;241m32\u001b[39m\n",
      "\u001b[0;31mNameError\u001b[0m: name 'temp' is not defined"
     ]
    }
   ],
   "source": [
    "(9/5)*temp+32"
   ]
  },
  {
   "cell_type": "code",
   "execution_count": 230,
   "id": "870b3dbd-fb16-47d1-9442-4e46d00acd81",
   "metadata": {},
   "outputs": [],
   "source": [
    "c_t=[0,10,20,23,30,40,50]"
   ]
  },
  {
   "cell_type": "code",
   "execution_count": 232,
   "id": "3e9ec4c9-33f7-436e-b15c-e8ab1ca6fe95",
   "metadata": {},
   "outputs": [
    {
     "data": {
      "text/plain": [
       "[32.0, 50.0, 68.0, 73.4, 86.0, 104.0, 122.0]"
      ]
     },
     "execution_count": 232,
     "metadata": {},
     "output_type": "execute_result"
    }
   ],
   "source": [
    "[(9/5)*temp+32 for temp in c_t]"
   ]
  },
  {
   "cell_type": "code",
   "execution_count": 233,
   "id": "88c7f415-fd70-4e88-99b6-4e49e0221d5e",
   "metadata": {},
   "outputs": [],
   "source": [
    "lst=[[1,2,3],[4,5,6],[7,8,9]]"
   ]
  },
  {
   "cell_type": "code",
   "execution_count": 237,
   "id": "b3f2c40a-3438-4dd2-88ac-b8bf9602b46e",
   "metadata": {},
   "outputs": [
    {
     "data": {
      "text/plain": [
       "[1, 2, 3, 4, 5, 6, 7, 8, 9]"
      ]
     },
     "execution_count": 237,
     "metadata": {},
     "output_type": "execute_result"
    }
   ],
   "source": [
    "[i for j in lst for i in j]"
   ]
  },
  {
   "cell_type": "code",
   "execution_count": 238,
   "id": "a83318af-baac-4af1-bece-5f7b40f406c4",
   "metadata": {},
   "outputs": [
    {
     "data": {
      "text/plain": [
       "[1, 2, 3, 4, 5, 6, 7, 8, 9]"
      ]
     },
     "execution_count": 238,
     "metadata": {},
     "output_type": "execute_result"
    }
   ],
   "source": [
    "[num for sub in lst for num in sub]"
   ]
  },
  {
   "cell_type": "code",
   "execution_count": null,
   "id": "b3053db8-911e-4bc0-81e3-008fade5d77c",
   "metadata": {},
   "outputs": [],
   "source": []
  },
  {
   "cell_type": "code",
   "execution_count": null,
   "id": "efb519be-224c-429c-922f-53e35abe4202",
   "metadata": {},
   "outputs": [],
   "source": []
  }
 ],
 "metadata": {
  "kernelspec": {
   "display_name": "Python 3 (ipykernel)",
   "language": "python",
   "name": "python3"
  },
  "language_info": {
   "codemirror_mode": {
    "name": "ipython",
    "version": 3
   },
   "file_extension": ".py",
   "mimetype": "text/x-python",
   "name": "python",
   "nbconvert_exporter": "python",
   "pygments_lexer": "ipython3",
   "version": "3.10.8"
  }
 },
 "nbformat": 4,
 "nbformat_minor": 5
}
