{
 "cells": [
  {
   "cell_type": "code",
   "execution_count": 1,
   "id": "258c9bdd-8d95-4c05-b635-0dcc6d9446ed",
   "metadata": {},
   "outputs": [
    {
     "name": "stdout",
     "output_type": "stream",
     "text": [
      "ID of process running main program: 105\n",
      "Main thread name: MainThread\n",
      "Task 1 assigned to thread: t1\n",
      "ID of process running task 1: 105\n",
      "Task 2 assigned to thread: t2\n",
      "ID of process running task 2: 105\n"
     ]
    }
   ],
   "source": [
    "# Q1\n",
    "'''MULTITHREADING uses a single process with multiple code segments to increase computing power and it use only one processer to complete the task.\n",
    "   The code can be more challenging to understand.\n",
    "   A multithreading system cannot be interrupted.\n",
    "'''\n",
    "#use of multithreading\n",
    "'''Multithreading allows you to have different parts of your program run simultaneously and can simplify your design.\n",
    "   Multithreading is when a program creates multiple threads with execution cycling among them,so one longer-running task doesn't block all the others.\n",
    "   This works well for tasks that can be broken down into smaller subtasks, which can then each be given to a thread to be completed.'''\n",
    "#the module used to handle threads\n",
    "''' threading module '''\n",
    "# example\n",
    "import threading\n",
    "import os\n",
    "def task1():\n",
    "    print(\"Task 1 assigned to thread: {}\".format(threading.current_thread().name))\n",
    "    print(\"ID of process running task 1: {}\".format(os.getpid()))\n",
    "def task2():\n",
    "    print(\"Task 2 assigned to thread: {}\".format(threading.current_thread().name))\n",
    "    print(\"ID of process running task 2: {}\".format(os.getpid()))\n",
    "if __name__ == \"__main__\": \n",
    "    print(\"ID of process running main program: {}\".format(os.getpid()))\n",
    "    print(\"Main thread name: {}\".format(threading.current_thread().name)) \n",
    "    t1 = threading.Thread(target=task1, name='t1')\n",
    "    t2 = threading.Thread(target=task2, name='t2') \n",
    "    t1.start()\n",
    "    t2.start()"
   ]
  },
  {
   "cell_type": "code",
   "execution_count": 2,
   "id": "27693471-1ffb-44a0-b26c-d6aec2fe50d2",
   "metadata": {},
   "outputs": [
    {
     "name": "stdout",
     "output_type": "stream",
     "text": [
      "START: Current active thread count:  8\n",
      "Thread-2: Number of active threads: 10\n",
      "Thread 2 Value: 200\n",
      "Thread-1: Number of active threads: 10\n",
      "Thread 1 Value: 100\n",
      "Thread-3: Number of active threads: 9\n",
      "Thread 3 Value: 300\n"
     ]
    }
   ],
   "source": [
    "# Q2\n",
    "#threading module used?\n",
    "''' is used to run multiple threads (tasks, function calls) at the same time.\n",
    "Note that this does not mean that they are executed on different CPUs.\n",
    "Python threads will NOT make your program faster if it already uses 100 % CPU time.'''\n",
    "#activeCount()\n",
    "'''The activeCount() method of thread class is used to return the number of active threads in the current thread's\n",
    "thread group.'''\n",
    "# example of activecount()\n",
    "import threading\n",
    "import time\n",
    "def thread1_Subroutine(i):\n",
    "    time.sleep(1)\n",
    "    print(\"Thread-1: Number of active threads:\", threading.active_count())\n",
    "    print('Thread 1 Value:', i)\n",
    "\n",
    "def thread2_Subroutine(i):\n",
    "    print(\"Thread-2: Number of active threads:\", threading.active_count())\n",
    "    print('Thread 2 Value:', i)\n",
    "    \n",
    "def thread3_Subroutine(i):\n",
    "    time.sleep(2)\n",
    "    print(\"Thread-3: Number of active threads:\", threading.active_count())\n",
    "    print(\"Thread 3 Value:\", i)\n",
    "thread1 = threading.Thread(target=thread1_Subroutine, args=(100,), name=\"Thread1\")\n",
    "thread2 = threading.Thread(target=thread2_Subroutine, args=(200,), name=\"Thread2\")\n",
    "thread3 = threading.Thread(target=thread3_Subroutine, args=(300,), name=\"Thread3\")\n",
    "print(\"START: Current active thread count: \", threading.active_count())\n",
    "thread1.start()\n",
    "thread2.start()\n",
    "thread3.start()"
   ]
  },
  {
   "cell_type": "code",
   "execution_count": 3,
   "id": "29f348ee-33ec-4913-b53a-cd9a93758b0a",
   "metadata": {},
   "outputs": [
    {
     "name": "stdout",
     "output_type": "stream",
     "text": [
      "Active current thread right now: <_MainThread(MainThread, started 140201530324800)>\n",
      "Active current thread right now: <Thread(Thread-5 (thread_4), started 140201171064384)>\n",
      "Value by Thread 1: 1\n",
      "Active current thread right now: <Thread(Thread-6 (thread_5), started 140201171064384)>\n",
      "Value by Thread 2: 2\n"
     ]
    }
   ],
   "source": [
    "#currentThread\n",
    "'''The currentThread() method of thread class is used to return a reference to the currently executing thread object.'''\n",
    "# example of currentThrad()\n",
    "import threading\n",
    "def thread_4(i):\n",
    "    print(\"Active current thread right now:\", (threading.current_thread()))\n",
    "    print('Value by Thread 1:', i)\n",
    "\n",
    "def thread_5(i):\n",
    "    print(\"Active current thread right now:\", (threading.current_thread()))\n",
    "    print('Value by Thread 2:', i)\n",
    "thread4 = threading.Thread(target=thread_4, args=(1,))\n",
    "thread5 = threading.Thread(target=thread_5, args=(2,))\n",
    "print(\"Active current thread right now:\", (threading.current_thread()))\n",
    "thread4.start()\n",
    "thread5.start()"
   ]
  },
  {
   "cell_type": "code",
   "execution_count": 2,
   "id": "9deadb4b-d033-4ab9-a4a1-da822144b213",
   "metadata": {},
   "outputs": [
    {
     "name": "stderr",
     "output_type": "stream",
     "text": [
      "/tmp/ipykernel_207/2584230428.py:5: DeprecationWarning: currentThread() is deprecated, use current_thread() instead\n",
      "  t = threading.currentThread()\n"
     ]
    }
   ],
   "source": [
    "#enumerate\n",
    "'''The enumerate() function takes a collection (e.g. a tuple) and returns it as an enumerate object.\n",
    "   The enumerate() function adds a counter as the key of the enumerate object.'''\n",
    "# example of enumerate\n",
    "import threading\n",
    "import time\n",
    "def f():\n",
    "    t = threading.currentThread()\n",
    "    return\n",
    "\n",
    "if __name__ == '__main__':\n",
    "    for i in range(3):\n",
    "         t = threading.Thread(target=f)\n",
    "         t.start()"
   ]
  },
  {
   "cell_type": "code",
   "execution_count": 4,
   "id": "eb368cd1-a4d6-45e8-b33d-22f46d6b8418",
   "metadata": {},
   "outputs": [
    {
     "data": {
      "text/plain": [
       "'The . is_alive() method returns True if the thread is still running and False , otherwise.'"
      ]
     },
     "execution_count": 4,
     "metadata": {},
     "output_type": "execute_result"
    }
   ],
   "source": [
    "# Q3\n",
    "#run()\n",
    "'''run() method is an inbuilt method of the Thread class of the threading module in Python.\n",
    "   This method is used to represent a thread's activity.'''\n",
    "#start()\n",
    "'''start() is where the regex was matched in str1.\n",
    "   Think of that return as saying, Returning everything in str1 up to where the regex was matched, and strip whitespace.'''\n",
    "#join()\n",
    "'''The join() method takes all items in an iterable and joins them into one string. A string must be specified as the separator.'''\n",
    "#isAlive\n",
    "'''The . is_alive() method returns True if the thread is still running and False , otherwise.'''"
   ]
  },
  {
   "cell_type": "code",
   "execution_count": 29,
   "id": "98a613e7-f36b-4d39-823d-0532e8613664",
   "metadata": {},
   "outputs": [
    {
     "name": "stdout",
     "output_type": "stream",
     "text": [
      "Error: unable to start thread\n"
     ]
    }
   ],
   "source": [
    "#example\n",
    "import threading\n",
    "def print_time( threadName, delay):\n",
    "   count = 0\n",
    "   while count < 5:\n",
    "    count += 1\n",
    "    print (\"%s: %s\" % ( threadName, time.ctime(time.time()) ))\n",
    "try:\n",
    "    threading.Thread.start_new_thread( print_time, (\"Thread-1\", 2, ) )\n",
    "    threading.Thread.start_new_thread( print_time, (\"Thread-2\", 4, ) )\n",
    "except:\n",
    "    print (\"Error: unable to start thread\")"
   ]
  },
  {
   "cell_type": "code",
   "execution_count": 17,
   "id": "c727bc79-661d-45b7-b197-db4ec4eb3300",
   "metadata": {},
   "outputs": [
    {
     "name": "stdout",
     "output_type": "stream",
     "text": [
      "Square: 1\n",
      "Square: 4\n",
      "Square: 9\n",
      "Square: 16\n",
      "Square: 25\n",
      "Cube: 1\n",
      "Cube: 8\n",
      "Cube: 27\n",
      "Cube: 64\n",
      "Cube: 125\n",
      "Done!\n"
     ]
    }
   ],
   "source": [
    "# Q4\n",
    "# Python program to create two thread \n",
    "# forThread one must print the list of squares and thread two must print the list of cubes\n",
    "import threading\n",
    "def print_cube(num):\n",
    "    print(\"Cube: {}\" .format(num **3))\n",
    "def print_square(num):\n",
    "    print(\"Square: {}\" .format(num **2))\n",
    "if __name__ ==\"__main__\":\n",
    "    t1 = [threading.Thread(target=print_square, args=(i, )) for i in [1,2,3,4,5]]\n",
    "    t2 = [threading.Thread(target=print_cube, args=(i, ))for i in [1,2,3,4,5]]\n",
    "    for t in t1:\n",
    "        t.start()\n",
    "    for t in t2:\n",
    "        t.start()\n",
    "    print(\"Done!\")"
   ]
  },
  {
   "cell_type": "code",
   "execution_count": null,
   "id": "edee9b26-b348-463e-8459-972b80a23259",
   "metadata": {},
   "outputs": [
    {
     "data": {
      "text/plain": [
       "'Disadvantage of this model is that creating user thread requires the corresponding Kernel thread.'"
      ]
     },
     "execution_count": 14,
     "metadata": {},
     "output_type": "execute_result"
    }
   ],
   "source": [
    "# Q5\n",
    "'''Advantage of multithreading:-\n",
    "   This model provides more concurrency than the many-to-one model.\n",
    "   It also allows another thread to run when a thread makes a blocking system call.\n",
    "   It supports multiple threads to execute in parallel on microprocessors.\n",
    "   Streamlines the efficient utilization of resources as the threads share the same memory and data space.\n",
    "   It also allows the concurrent appearance of multiple tasks and reduces the response time. This improves the perform.\n",
    "   '''\n",
    "'''Disadvantage :-\n",
    "   this model is that creating user thread requires the corresponding Kernel thread.\n",
    "   Difficulty of debugging. \n",
    "   Difficulty of managing concurrency.\n",
    "   Difficulty of testing.\n",
    "   Difficulty of porting existing code.\n",
    "'''"
   ]
  },
  {
   "cell_type": "code",
   "execution_count": 18,
   "id": "d7fd474f-491b-4213-9b7a-ea2c9e4dedfa",
   "metadata": {},
   "outputs": [
    {
     "name": "stdout",
     "output_type": "stream",
     "text": [
      "Thread acquiring lock...\n",
      "Thread acquiring lock again...\n"
     ]
    }
   ],
   "source": [
    "# Q6\n",
    "'''deadlock.\n",
    "   Two threads hold locks on different resources, each waiting indefinitely for the other to release its lock.\n",
    "   race condition.\n",
    "   Two (or more) threads alter the state of a shared resource concurrently, leaving it in an unpredictable state.'''\n",
    "#example\n",
    "import threading\n",
    "from threading import Lock\n",
    "def task(lock):\n",
    "    print('Thread acquiring lock...')\n",
    "    with lock:\n",
    "        print('Thread acquiring lock again...')\n",
    "        with lock:\n",
    "            pass\n",
    "lock = Lock()\n",
    "thread = threading.Thread(target=task, args=(lock,))\n",
    "thread.start()"
   ]
  },
  {
   "cell_type": "code",
   "execution_count": null,
   "id": "3cfd392c-d170-4cc0-9565-b1c59db109e4",
   "metadata": {},
   "outputs": [],
   "source": []
  }
 ],
 "metadata": {
  "kernelspec": {
   "display_name": "Python 3 (ipykernel)",
   "language": "python",
   "name": "python3"
  },
  "language_info": {
   "codemirror_mode": {
    "name": "ipython",
    "version": 3
   },
   "file_extension": ".py",
   "mimetype": "text/x-python",
   "name": "python",
   "nbconvert_exporter": "python",
   "pygments_lexer": "ipython3",
   "version": "3.10.8"
  }
 },
 "nbformat": 4,
 "nbformat_minor": 5
}
