{
 "cells": [
  {
   "cell_type": "code",
   "execution_count": 1,
   "id": "ae6ad5f3-984f-4b76-864e-e3cd4a2cd233",
   "metadata": {},
   "outputs": [
    {
     "name": "stdin",
     "output_type": "stream",
     "text": [
      "Enter age:  11\n"
     ]
    },
    {
     "name": "stdout",
     "output_type": "stream",
     "text": [
      "Exception occurred: Invalid Age\n"
     ]
    }
   ],
   "source": [
    "# Q1\n",
    "'''The purpose of a custom exception class is to integrate the look-up of localized message\n",
    "   strings in a custom message catalog into the mechanism used for error reporting in the client infrastructure'''\n",
    "#example\n",
    "class Age_Exception(Exception):\n",
    "    \"Raised when the input value is less than 18\"\n",
    "    pass\n",
    "number = 18\n",
    "try:\n",
    "    input_num = int(input(\"Enter age: \"))\n",
    "    if input_num < number:\n",
    "        raise Age_Exception\n",
    "    else:\n",
    "        print(\"Eligible to Vote\")\n",
    "        \n",
    "except Age_Exception:\n",
    "    print(\"Exception occurred: Invalid Age\")"
   ]
  },
  {
   "cell_type": "code",
   "execution_count": 6,
   "id": "482fdfba-6f48-48e7-b191-3999e08ce4e7",
   "metadata": {},
   "outputs": [
    {
     "name": "stdout",
     "output_type": "stream",
     "text": [
      "Hierarchy for Built-in exceptions is : \n"
     ]
    }
   ],
   "source": [
    "# Q2\n",
    "import inspect\n",
    "def treeClass(cls, ind = 0):\n",
    "    print ('-' * ind, cls.__name__)\n",
    "    for i in cls.__subclasses__():\n",
    "        treeClass(i, ind + 3)\n",
    "  \n",
    "print(\"Hierarchy for Built-in exceptions is : \")"
   ]
  },
  {
   "cell_type": "code",
   "execution_count": 10,
   "id": "4b668bb6-b626-4057-b3fc-3eb349199e5a",
   "metadata": {},
   "outputs": [
    {
     "name": "stdout",
     "output_type": "stream",
     "text": [
      "This statement is raising an arithmetic exception.\n"
     ]
    }
   ],
   "source": [
    "# Q3\n",
    "'''ArithmeticError is thrown when an error occurs while performing mathematical operations.\n",
    "   These errors include attempting to perform a bitshift by a negative amount,\n",
    "   and any call to intdiv() that would result in a value outside the possible bounds of an int'''\n",
    "# example\n",
    "# ZeroDivisionError is a built-in Python exception thrown when a number is divided by 0.\n",
    "try:  \n",
    "    a = 10/0  \n",
    "    print (a)\n",
    "except ZeroDivisionError:  \n",
    "        print (\"This statement is raising an arithmetic exception.\")\n",
    "else:  \n",
    "    print (\"Success.\")"
   ]
  },
  {
   "cell_type": "code",
   "execution_count": 12,
   "id": "c5596391-67ff-433b-8007-74659e9ead2b",
   "metadata": {},
   "outputs": [
    {
     "name": "stdout",
     "output_type": "stream",
     "text": [
      "Index out of bound error.\n"
     ]
    }
   ],
   "source": [
    "#  IndexError. This error occurs when an attempt is made to access an item in a list at an index which is out of bounds. \n",
    "try: \n",
    "    a = [1, 2, 3] \n",
    "    print (a[3]) \n",
    "except IndexError: \n",
    "    print (\"Index out of bound error.\")\n",
    "else: \n",
    "    print (\"Success\")"
   ]
  },
  {
   "cell_type": "code",
   "execution_count": 14,
   "id": "6e1bf1c7-a234-483d-96f4-9701ea5f9a57",
   "metadata": {},
   "outputs": [
    {
     "name": "stdin",
     "output_type": "stream",
     "text": [
      "What do you want to learn about Pylenin==>  b\n"
     ]
    },
    {
     "name": "stdout",
     "output_type": "stream",
     "text": [
      "'b', <class 'KeyError'>\n"
     ]
    }
   ],
   "source": [
    "# Q4\n",
    "'''Lookup Error acts as a base class for the exceptions that occur when a key or index\n",
    "   used on a mapping or sequence of a list/dictionary is invalid or does not exists.\n",
    "'''\n",
    "# example\n",
    "# KeyError is an exception that occurs when an attempt is made to access an item in a dictionary that does not exist. \n",
    "pylenin_info = {'name': 'Lenin Mishra',\n",
    "                'age': 28,\n",
    "                'language': 'Python'}\n",
    "user_input = input('What do you want to learn about Pylenin==> ')\n",
    "\n",
    "try:\n",
    "    print(f'{user_input} is {pylenin_info[user_input]}')\n",
    "except KeyError as e:\n",
    "    print(f'{e}, {e.__class__}')"
   ]
  },
  {
   "cell_type": "code",
   "execution_count": 16,
   "id": "a1f2e68d-6446-45a0-b7d3-dd7a3c94f54e",
   "metadata": {},
   "outputs": [
    {
     "name": "stdout",
     "output_type": "stream",
     "text": [
      "Index out of bound error.\n"
     ]
    }
   ],
   "source": [
    "#  IndexError: This error occurs when an attempt is made to access an item in a list at an index which is out of bounds\n",
    "try: \n",
    "    a = [2,23,2,5,6] \n",
    "    print (a[6]) \n",
    "except IndexError: \n",
    "    print (\"Index out of bound error.\")\n",
    "else: \n",
    "    print (\"Success\")"
   ]
  },
  {
   "cell_type": "code",
   "execution_count": 17,
   "id": "dcc137f0-f851-4724-b90e-b7cb72492154",
   "metadata": {},
   "outputs": [
    {
     "name": "stdout",
     "output_type": "stream",
     "text": [
      "No module named 'ala'\n"
     ]
    }
   ],
   "source": [
    "# Q5\n",
    "'''ImportError occurs when the Python program tries to import module which does not exist in the private table.'''\n",
    "# module not found error\n",
    "'''you do not have the module you tried importing installed on your computer.\n",
    "   this error occurs when you're trying to access or use a module that cannot be found. In the case of the title,\n",
    "   the \"module named Python\" cannot be found. Python here can be any module'''\n",
    "# module not found error\n",
    "try :\n",
    "    import ala \n",
    "except ImportError as e:\n",
    "    print(e)"
   ]
  },
  {
   "cell_type": "code",
   "execution_count": 10,
   "id": "2ceef4e5-4919-4eb1-9b37-0dc3988bf21a",
   "metadata": {},
   "outputs": [
    {
     "name": "stdout",
     "output_type": "stream",
     "text": [
      "No module named 'exception'\n"
     ]
    },
    {
     "ename": "NameError",
     "evalue": "name 'sys' is not defined",
     "output_type": "error",
     "traceback": [
      "\u001b[0;31m---------------------------------------------------------------------------\u001b[0m",
      "\u001b[0;31mModuleNotFoundError\u001b[0m                       Traceback (most recent call last)",
      "Cell \u001b[0;32mIn[10], line 3\u001b[0m\n\u001b[1;32m      2\u001b[0m \u001b[38;5;28;01mtry\u001b[39;00m:\n\u001b[0;32m----> 3\u001b[0m     \u001b[38;5;28;01mfrom\u001b[39;00m \u001b[38;5;21;01mexception\u001b[39;00m \u001b[38;5;28;01mimport\u001b[39;00m myexception\n\u001b[1;32m      4\u001b[0m \u001b[38;5;28;01mexcept\u001b[39;00m \u001b[38;5;167;01mException\u001b[39;00m \u001b[38;5;28;01mas\u001b[39;00m e:\n",
      "\u001b[0;31mModuleNotFoundError\u001b[0m: No module named 'exception'",
      "\nDuring handling of the above exception, another exception occurred:\n",
      "\u001b[0;31mNameError\u001b[0m                                 Traceback (most recent call last)",
      "Cell \u001b[0;32mIn[10], line 6\u001b[0m\n\u001b[1;32m      4\u001b[0m \u001b[38;5;28;01mexcept\u001b[39;00m \u001b[38;5;167;01mException\u001b[39;00m \u001b[38;5;28;01mas\u001b[39;00m e:\n\u001b[1;32m      5\u001b[0m     \u001b[38;5;28mprint\u001b[39m (e)\n\u001b[0;32m----> 6\u001b[0m     \u001b[38;5;28mprint\u001b[39m (\u001b[43msys\u001b[49m\u001b[38;5;241m.\u001b[39mexc_type)\n",
      "\u001b[0;31mNameError\u001b[0m: name 'sys' is not defined"
     ]
    }
   ],
   "source": [
    "# import Error\n",
    "try:\n",
    "    from exception import myexception\n",
    "except Exception as e:\n",
    "    print (e)\n",
    "    print (sys.exc_type)"
   ]
  },
  {
   "cell_type": "code",
   "execution_count": 18,
   "id": "5b453ab0-f68d-409f-87ec-142ced94abbd",
   "metadata": {},
   "outputs": [
    {
     "name": "stdin",
     "output_type": "stream",
     "text": [
      "Please enter a number:  2\n"
     ]
    },
    {
     "name": "stdout",
     "output_type": "stream",
     "text": [
      "Cleanup can go here\n"
     ]
    }
   ],
   "source": [
    "# Q6\n",
    "'''Avoid raising generic exceptions because if you do so, then all other more specific exceptions have to be caught also.\n",
    "   Hence, the best practice is to raise the most specific exception close to your problem.\n",
    "'''\n",
    "try:\n",
    "    x = int(input(\"Please enter a number: \"))\n",
    "    y = 100 / x\n",
    "except ValueError:\n",
    "    print(\"Error: there was an error\")\n",
    "except ZeroDivisionError:\n",
    "    print(\"Error: 0 is an invalid number\")\n",
    "except Exception:\n",
    "    print(\"Error: another error occurred\")\n",
    "finally:\n",
    "    print(\"Cleanup can go here\")"
   ]
  },
  {
   "cell_type": "code",
   "execution_count": null,
   "id": "747bfb34-33f5-408c-944d-86b702c52d53",
   "metadata": {},
   "outputs": [],
   "source": [
    "ImportError\n",
    "AttributeError\n",
    "KeyError\n",
    "IndexError\n",
    "FileNotFoundError\n",
    "ValueError\n"
   ]
  }
 ],
 "metadata": {
  "kernelspec": {
   "display_name": "Python 3 (ipykernel)",
   "language": "python",
   "name": "python3"
  },
  "language_info": {
   "codemirror_mode": {
    "name": "ipython",
    "version": 3
   },
   "file_extension": ".py",
   "mimetype": "text/x-python",
   "name": "python",
   "nbconvert_exporter": "python",
   "pygments_lexer": "ipython3",
   "version": "3.10.8"
  }
 },
 "nbformat": 4,
 "nbformat_minor": 5
}
