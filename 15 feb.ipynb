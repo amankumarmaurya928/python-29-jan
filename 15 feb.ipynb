{
 "cells": [
  {
   "cell_type": "code",
   "execution_count": 2,
   "id": "391f7eb6-71d3-4e41-af9b-9ca71ed15b1b",
   "metadata": {},
   "outputs": [
    {
     "data": {
      "text/plain": [
       "\"Child processes can be interrupted.\\n   It completes tasks faster and analyzes large amounts of data.\\n   It uses multiple CPUs to improve a system's overall power.\""
      ]
     },
     "execution_count": 2,
     "metadata": {},
     "output_type": "execute_result"
    }
   ],
   "source": [
    "# Q1\n",
    "'''MULTIPROCESS is a process in which more then one processer is processing the data simultaneously and giving the output.\n",
    "   the whole process is called MULTIPROCESSING'''\n",
    "# USE\n",
    "'''Child processes can be interrupted.\n",
    "   It completes tasks faster and analyzes large amounts of data.\n",
    "   It uses multiple CPUs to improve a system's overall power.'''"
   ]
  },
  {
   "cell_type": "code",
   "execution_count": 3,
   "id": "926cad42-9b75-41c3-8dcd-82137ca0a117",
   "metadata": {},
   "outputs": [
    {
     "data": {
      "text/plain": [
       "\"MULTIPROCESSING uses two or more PROCESSERS to increase computing power,\\nChild processes can be interrupted.\\n                                                                               It completes tasks faster and analyzes large amounts of data.\\n                                                                               It uses multiple CPUs to improve a system's overall power.\\n                                                                               It removes synchronization primitives.\\n   whereas MULTITHREADING uses a single process with multiple code segments to increase computing power\\n                                                                               The code can be more challenging to understand.\\n                                                                               A multithreading system cannot be interrupted.\""
      ]
     },
     "execution_count": 3,
     "metadata": {},
     "output_type": "execute_result"
    }
   ],
   "source": [
    "# Q2\n",
    "'''MULTIPROCESSING uses two or more PROCESSERS to increase computing power,\n",
    "Child processes can be interrupted.\n",
    "                                                                               It completes tasks faster and analyzes large amounts of data.\n",
    "                                                                               It uses multiple CPUs to improve a system's overall power.\n",
    "                                                                               It removes synchronization primitives.\n",
    "   whereas MULTITHREADING uses a single process with multiple code segments to increase computing power\n",
    "                                                                               The code can be more challenging to understand.\n",
    "                                                                               A multithreading system cannot be interrupted.'''"
   ]
  },
  {
   "cell_type": "code",
   "execution_count": 5,
   "id": "b09331b5-5214-47a6-b67b-204490cd1660",
   "metadata": {},
   "outputs": [
    {
     "name": "stdout",
     "output_type": "stream",
     "text": [
      "[1, 4, 9]\n"
     ]
    }
   ],
   "source": [
    "# Q3\n",
    "import multiprocessing\n",
    "\n",
    "def f(x):\n",
    "    return x*x\n",
    "\n",
    "if __name__ == '__main__':\n",
    "    with multiprocessing.Pool(processes=5) as p:\n",
    "        print(p.map(f, [1, 2, 3]))"
   ]
  },
  {
   "cell_type": "code",
   "execution_count": 7,
   "id": "98aaac61-e371-427f-ae4b-a6d153bb26a2",
   "metadata": {},
   "outputs": [
    {
     "name": "stdin",
     "output_type": "stream",
     "text": [
      "enter a num 56\n"
     ]
    },
    {
     "name": "stdout",
     "output_type": "stream",
     "text": [
      "[3136]\n"
     ]
    }
   ],
   "source": [
    "# Q4\n",
    "'''Multiprocessing Pool can be used for parallel execution of a function across multiple input values, distributing the input data across processes'''\n",
    "#use\n",
    "'''that allows the system to run multiple processes simultaneously.\n",
    "   Pool class use when you need to execute tasks that may or may not take arguments\n",
    "   and may or may not return a result once the tasks are complete.'''\n",
    "#example\n",
    "import multiprocessing\n",
    "\n",
    "def square(n):\n",
    "    return n**2\n",
    "if __name__ == \"__main__\":\n",
    "    with multiprocessing.Pool(processes=5) as pool:\n",
    "        out = pool.map(square, [int(input(\"enter a num\"))])\n",
    "        print(out)"
   ]
  },
  {
   "cell_type": "code",
   "execution_count": 17,
   "id": "955b2698-a82d-4842-80ea-031d223791de",
   "metadata": {},
   "outputs": [
    {
     "name": "stdout",
     "output_type": "stream",
     "text": [
      "worker start's work\n",
      "16\n",
      "<multiprocessing.pool.Pool state=RUN pool_size=5>\n"
     ]
    }
   ],
   "source": [
    "# Q5\n",
    "'''1.need to import multiprocessing module\n",
    "then create a class worker and define class\n",
    "2.if __name__ == '__main__': then create a process pool with the default number of workers.\n",
    "'''\n",
    "import multiprocessing\n",
    "class worker():\n",
    "    def __init__(self):\n",
    "        print(\"worker start's work\")\n",
    "    def compute(self, data):\n",
    "        return data*data\n",
    "if __name__==\"__main__\":\n",
    "    worker = worker()\n",
    "    print(worker.compute(4))\n",
    "    with multiprocessing.Pool(processes=5) as p:\n",
    "   \n",
    "       print(p)"
   ]
  },
  {
   "cell_type": "code",
   "execution_count": 27,
   "id": "07c243f1-7a57-4216-bcb5-ec911c0a6c6a",
   "metadata": {},
   "outputs": [
    {
     "name": "stdout",
     "output_type": "stream",
     "text": [
      "[1, 4, 9, 16]\n"
     ]
    },
    {
     "name": "stdin",
     "output_type": "stream",
     "text": [
      "enater name km\n"
     ]
    },
    {
     "name": "stdout",
     "output_type": "stream",
     "text": [
      "hello km\n",
      "this is my multiprocessing3\n",
      "The name of continent is :  Asia\n"
     ]
    }
   ],
   "source": [
    "# Q6\n",
    "import multiprocessing\n",
    "\n",
    "def print_func(continent='Asia'):\n",
    "    print('The name of continent is : ', continent)\n",
    "    \n",
    "    \n",
    "def square(n):\n",
    "    return n*n\n",
    "\n",
    "\n",
    "def test():\n",
    "    print(\"this is my multiprocessing3\")\n",
    "    \n",
    "    \n",
    "def fun(name):\n",
    "    print(f'hello {name}')\n",
    "    \n",
    "    \n",
    "if __name__ == \"__main__\":  \n",
    "    proc = multiprocessing.Process(target=print_func)  \n",
    "    with multiprocessing.Pool(5) as p:\n",
    "        print(p.map(square, [1,2,3,4]))\n",
    "    proc1 = multiprocessing.Process(target= test)\n",
    "    proc2 =multiprocessing.Process(target= fun(input(\"enater name\")))\n",
    "    proc2.start()\n",
    "    proc1.start()   \n",
    "    proc.start()\n",
    "    proc.join()"
   ]
  },
  {
   "cell_type": "code",
   "execution_count": null,
   "id": "df2ea69e-1b63-4373-afba-eea76085976d",
   "metadata": {},
   "outputs": [],
   "source": []
  }
 ],
 "metadata": {
  "kernelspec": {
   "display_name": "Python 3 (ipykernel)",
   "language": "python",
   "name": "python3"
  },
  "language_info": {
   "codemirror_mode": {
    "name": "ipython",
    "version": 3
   },
   "file_extension": ".py",
   "mimetype": "text/x-python",
   "name": "python",
   "nbconvert_exporter": "python",
   "pygments_lexer": "ipython3",
   "version": "3.10.8"
  }
 },
 "nbformat": 4,
 "nbformat_minor": 5
}
